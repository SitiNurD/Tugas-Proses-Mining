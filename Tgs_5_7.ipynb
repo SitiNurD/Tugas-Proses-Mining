{
  "nbformat": 4,
  "nbformat_minor": 0,
  "metadata": {
    "colab": {
      "name": "Tgs 5-7.ipynb",
      "provenance": [],
      "collapsed_sections": []
    },
    "kernelspec": {
      "name": "python3",
      "display_name": "Python 3"
    },
    "language_info": {
      "name": "python"
    },
    "widgets": {
      "application/vnd.jupyter.widget-state+json": {
        "bcadb1e1634a453ca2f1d449ecd303c5": {
          "model_module": "@jupyter-widgets/controls",
          "model_name": "HBoxModel",
          "model_module_version": "1.5.0",
          "state": {
            "_view_name": "HBoxView",
            "_dom_classes": [],
            "_model_name": "HBoxModel",
            "_view_module": "@jupyter-widgets/controls",
            "_model_module_version": "1.5.0",
            "_view_count": null,
            "_view_module_version": "1.5.0",
            "box_style": "",
            "layout": "IPY_MODEL_c5434f80716548f6a42afa10c6a39da4",
            "_model_module": "@jupyter-widgets/controls",
            "children": [
              "IPY_MODEL_471b8e54d1aa47b7bd4c90a1afe8d4aa",
              "IPY_MODEL_78ade332d37741ed90e89c63aaef2e05",
              "IPY_MODEL_42e827e682de4bf0925580ad7e7317cb"
            ]
          }
        },
        "c5434f80716548f6a42afa10c6a39da4": {
          "model_module": "@jupyter-widgets/base",
          "model_name": "LayoutModel",
          "model_module_version": "1.2.0",
          "state": {
            "_view_name": "LayoutView",
            "grid_template_rows": null,
            "right": null,
            "justify_content": null,
            "_view_module": "@jupyter-widgets/base",
            "overflow": null,
            "_model_module_version": "1.2.0",
            "_view_count": null,
            "flex_flow": null,
            "width": null,
            "min_width": null,
            "border": null,
            "align_items": null,
            "bottom": null,
            "_model_module": "@jupyter-widgets/base",
            "top": null,
            "grid_column": null,
            "overflow_y": null,
            "overflow_x": null,
            "grid_auto_flow": null,
            "grid_area": null,
            "grid_template_columns": null,
            "flex": null,
            "_model_name": "LayoutModel",
            "justify_items": null,
            "grid_row": null,
            "max_height": null,
            "align_content": null,
            "visibility": null,
            "align_self": null,
            "height": null,
            "min_height": null,
            "padding": null,
            "grid_auto_rows": null,
            "grid_gap": null,
            "max_width": null,
            "order": null,
            "_view_module_version": "1.2.0",
            "grid_template_areas": null,
            "object_position": null,
            "object_fit": null,
            "grid_auto_columns": null,
            "margin": null,
            "display": null,
            "left": null
          }
        },
        "471b8e54d1aa47b7bd4c90a1afe8d4aa": {
          "model_module": "@jupyter-widgets/controls",
          "model_name": "HTMLModel",
          "model_module_version": "1.5.0",
          "state": {
            "_view_name": "HTMLView",
            "style": "IPY_MODEL_6414a837ebd1433b9b09ff60c0860459",
            "_dom_classes": [],
            "description": "",
            "_model_name": "HTMLModel",
            "placeholder": "​",
            "_view_module": "@jupyter-widgets/controls",
            "_model_module_version": "1.5.0",
            "value": "replaying log with TBR, completed variants :: 100%",
            "_view_count": null,
            "_view_module_version": "1.5.0",
            "description_tooltip": null,
            "_model_module": "@jupyter-widgets/controls",
            "layout": "IPY_MODEL_19cf77636ff8447182cb5acdf6551a3c"
          }
        },
        "78ade332d37741ed90e89c63aaef2e05": {
          "model_module": "@jupyter-widgets/controls",
          "model_name": "FloatProgressModel",
          "model_module_version": "1.5.0",
          "state": {
            "_view_name": "ProgressView",
            "style": "IPY_MODEL_db8abf74709e486a84997b3271a5079b",
            "_dom_classes": [],
            "description": "",
            "_model_name": "FloatProgressModel",
            "bar_style": "success",
            "max": 3,
            "_view_module": "@jupyter-widgets/controls",
            "_model_module_version": "1.5.0",
            "value": 3,
            "_view_count": null,
            "_view_module_version": "1.5.0",
            "orientation": "horizontal",
            "min": 0,
            "description_tooltip": null,
            "_model_module": "@jupyter-widgets/controls",
            "layout": "IPY_MODEL_953d558a102a434c9711e37d0440e17e"
          }
        },
        "42e827e682de4bf0925580ad7e7317cb": {
          "model_module": "@jupyter-widgets/controls",
          "model_name": "HTMLModel",
          "model_module_version": "1.5.0",
          "state": {
            "_view_name": "HTMLView",
            "style": "IPY_MODEL_afadf32bb6c142bfa0c86c497e98af8a",
            "_dom_classes": [],
            "description": "",
            "_model_name": "HTMLModel",
            "placeholder": "​",
            "_view_module": "@jupyter-widgets/controls",
            "_model_module_version": "1.5.0",
            "value": " 3/3 [00:00&lt;00:00, 44.86it/s]",
            "_view_count": null,
            "_view_module_version": "1.5.0",
            "description_tooltip": null,
            "_model_module": "@jupyter-widgets/controls",
            "layout": "IPY_MODEL_9d5937978e1940c4a0fa731f7b3417cb"
          }
        },
        "6414a837ebd1433b9b09ff60c0860459": {
          "model_module": "@jupyter-widgets/controls",
          "model_name": "DescriptionStyleModel",
          "model_module_version": "1.5.0",
          "state": {
            "_view_name": "StyleView",
            "_model_name": "DescriptionStyleModel",
            "description_width": "",
            "_view_module": "@jupyter-widgets/base",
            "_model_module_version": "1.5.0",
            "_view_count": null,
            "_view_module_version": "1.2.0",
            "_model_module": "@jupyter-widgets/controls"
          }
        },
        "19cf77636ff8447182cb5acdf6551a3c": {
          "model_module": "@jupyter-widgets/base",
          "model_name": "LayoutModel",
          "model_module_version": "1.2.0",
          "state": {
            "_view_name": "LayoutView",
            "grid_template_rows": null,
            "right": null,
            "justify_content": null,
            "_view_module": "@jupyter-widgets/base",
            "overflow": null,
            "_model_module_version": "1.2.0",
            "_view_count": null,
            "flex_flow": null,
            "width": null,
            "min_width": null,
            "border": null,
            "align_items": null,
            "bottom": null,
            "_model_module": "@jupyter-widgets/base",
            "top": null,
            "grid_column": null,
            "overflow_y": null,
            "overflow_x": null,
            "grid_auto_flow": null,
            "grid_area": null,
            "grid_template_columns": null,
            "flex": null,
            "_model_name": "LayoutModel",
            "justify_items": null,
            "grid_row": null,
            "max_height": null,
            "align_content": null,
            "visibility": null,
            "align_self": null,
            "height": null,
            "min_height": null,
            "padding": null,
            "grid_auto_rows": null,
            "grid_gap": null,
            "max_width": null,
            "order": null,
            "_view_module_version": "1.2.0",
            "grid_template_areas": null,
            "object_position": null,
            "object_fit": null,
            "grid_auto_columns": null,
            "margin": null,
            "display": null,
            "left": null
          }
        },
        "db8abf74709e486a84997b3271a5079b": {
          "model_module": "@jupyter-widgets/controls",
          "model_name": "ProgressStyleModel",
          "model_module_version": "1.5.0",
          "state": {
            "_view_name": "StyleView",
            "_model_name": "ProgressStyleModel",
            "description_width": "",
            "_view_module": "@jupyter-widgets/base",
            "_model_module_version": "1.5.0",
            "_view_count": null,
            "_view_module_version": "1.2.0",
            "bar_color": null,
            "_model_module": "@jupyter-widgets/controls"
          }
        },
        "953d558a102a434c9711e37d0440e17e": {
          "model_module": "@jupyter-widgets/base",
          "model_name": "LayoutModel",
          "model_module_version": "1.2.0",
          "state": {
            "_view_name": "LayoutView",
            "grid_template_rows": null,
            "right": null,
            "justify_content": null,
            "_view_module": "@jupyter-widgets/base",
            "overflow": null,
            "_model_module_version": "1.2.0",
            "_view_count": null,
            "flex_flow": null,
            "width": null,
            "min_width": null,
            "border": null,
            "align_items": null,
            "bottom": null,
            "_model_module": "@jupyter-widgets/base",
            "top": null,
            "grid_column": null,
            "overflow_y": null,
            "overflow_x": null,
            "grid_auto_flow": null,
            "grid_area": null,
            "grid_template_columns": null,
            "flex": null,
            "_model_name": "LayoutModel",
            "justify_items": null,
            "grid_row": null,
            "max_height": null,
            "align_content": null,
            "visibility": null,
            "align_self": null,
            "height": null,
            "min_height": null,
            "padding": null,
            "grid_auto_rows": null,
            "grid_gap": null,
            "max_width": null,
            "order": null,
            "_view_module_version": "1.2.0",
            "grid_template_areas": null,
            "object_position": null,
            "object_fit": null,
            "grid_auto_columns": null,
            "margin": null,
            "display": null,
            "left": null
          }
        },
        "afadf32bb6c142bfa0c86c497e98af8a": {
          "model_module": "@jupyter-widgets/controls",
          "model_name": "DescriptionStyleModel",
          "model_module_version": "1.5.0",
          "state": {
            "_view_name": "StyleView",
            "_model_name": "DescriptionStyleModel",
            "description_width": "",
            "_view_module": "@jupyter-widgets/base",
            "_model_module_version": "1.5.0",
            "_view_count": null,
            "_view_module_version": "1.2.0",
            "_model_module": "@jupyter-widgets/controls"
          }
        },
        "9d5937978e1940c4a0fa731f7b3417cb": {
          "model_module": "@jupyter-widgets/base",
          "model_name": "LayoutModel",
          "model_module_version": "1.2.0",
          "state": {
            "_view_name": "LayoutView",
            "grid_template_rows": null,
            "right": null,
            "justify_content": null,
            "_view_module": "@jupyter-widgets/base",
            "overflow": null,
            "_model_module_version": "1.2.0",
            "_view_count": null,
            "flex_flow": null,
            "width": null,
            "min_width": null,
            "border": null,
            "align_items": null,
            "bottom": null,
            "_model_module": "@jupyter-widgets/base",
            "top": null,
            "grid_column": null,
            "overflow_y": null,
            "overflow_x": null,
            "grid_auto_flow": null,
            "grid_area": null,
            "grid_template_columns": null,
            "flex": null,
            "_model_name": "LayoutModel",
            "justify_items": null,
            "grid_row": null,
            "max_height": null,
            "align_content": null,
            "visibility": null,
            "align_self": null,
            "height": null,
            "min_height": null,
            "padding": null,
            "grid_auto_rows": null,
            "grid_gap": null,
            "max_width": null,
            "order": null,
            "_view_module_version": "1.2.0",
            "grid_template_areas": null,
            "object_position": null,
            "object_fit": null,
            "grid_auto_columns": null,
            "margin": null,
            "display": null,
            "left": null
          }
        },
        "c1d722acd16d4c6da4188d1b3b924541": {
          "model_module": "@jupyter-widgets/controls",
          "model_name": "HBoxModel",
          "model_module_version": "1.5.0",
          "state": {
            "_view_name": "HBoxView",
            "_dom_classes": [],
            "_model_name": "HBoxModel",
            "_view_module": "@jupyter-widgets/controls",
            "_model_module_version": "1.5.0",
            "_view_count": null,
            "_view_module_version": "1.5.0",
            "box_style": "",
            "layout": "IPY_MODEL_5d0d45c97c49413b9c47cc72c28ffa09",
            "_model_module": "@jupyter-widgets/controls",
            "children": [
              "IPY_MODEL_a8720785c0b7409a8d5394533b228505",
              "IPY_MODEL_482dcc03d4a54406925ba2c09b87d2d2",
              "IPY_MODEL_b109ee44e2bf4d84beb3f7511e934ead"
            ]
          }
        },
        "5d0d45c97c49413b9c47cc72c28ffa09": {
          "model_module": "@jupyter-widgets/base",
          "model_name": "LayoutModel",
          "model_module_version": "1.2.0",
          "state": {
            "_view_name": "LayoutView",
            "grid_template_rows": null,
            "right": null,
            "justify_content": null,
            "_view_module": "@jupyter-widgets/base",
            "overflow": null,
            "_model_module_version": "1.2.0",
            "_view_count": null,
            "flex_flow": null,
            "width": null,
            "min_width": null,
            "border": null,
            "align_items": null,
            "bottom": null,
            "_model_module": "@jupyter-widgets/base",
            "top": null,
            "grid_column": null,
            "overflow_y": null,
            "overflow_x": null,
            "grid_auto_flow": null,
            "grid_area": null,
            "grid_template_columns": null,
            "flex": null,
            "_model_name": "LayoutModel",
            "justify_items": null,
            "grid_row": null,
            "max_height": null,
            "align_content": null,
            "visibility": null,
            "align_self": null,
            "height": null,
            "min_height": null,
            "padding": null,
            "grid_auto_rows": null,
            "grid_gap": null,
            "max_width": null,
            "order": null,
            "_view_module_version": "1.2.0",
            "grid_template_areas": null,
            "object_position": null,
            "object_fit": null,
            "grid_auto_columns": null,
            "margin": null,
            "display": null,
            "left": null
          }
        },
        "a8720785c0b7409a8d5394533b228505": {
          "model_module": "@jupyter-widgets/controls",
          "model_name": "HTMLModel",
          "model_module_version": "1.5.0",
          "state": {
            "_view_name": "HTMLView",
            "style": "IPY_MODEL_a3a19c71b82a4b239789f4cd14cb5fcb",
            "_dom_classes": [],
            "description": "",
            "_model_name": "HTMLModel",
            "placeholder": "​",
            "_view_module": "@jupyter-widgets/controls",
            "_model_module_version": "1.5.0",
            "value": "replaying log with TBR, completed variants :: 100%",
            "_view_count": null,
            "_view_module_version": "1.5.0",
            "description_tooltip": null,
            "_model_module": "@jupyter-widgets/controls",
            "layout": "IPY_MODEL_9d850e9d19374e0f83149595a6a30875"
          }
        },
        "482dcc03d4a54406925ba2c09b87d2d2": {
          "model_module": "@jupyter-widgets/controls",
          "model_name": "FloatProgressModel",
          "model_module_version": "1.5.0",
          "state": {
            "_view_name": "ProgressView",
            "style": "IPY_MODEL_5566b9c0e57347c0a9625f81f32ee497",
            "_dom_classes": [],
            "description": "",
            "_model_name": "FloatProgressModel",
            "bar_style": "success",
            "max": 3,
            "_view_module": "@jupyter-widgets/controls",
            "_model_module_version": "1.5.0",
            "value": 3,
            "_view_count": null,
            "_view_module_version": "1.5.0",
            "orientation": "horizontal",
            "min": 0,
            "description_tooltip": null,
            "_model_module": "@jupyter-widgets/controls",
            "layout": "IPY_MODEL_0605c53d5e6245fbad505806f90603bd"
          }
        },
        "b109ee44e2bf4d84beb3f7511e934ead": {
          "model_module": "@jupyter-widgets/controls",
          "model_name": "HTMLModel",
          "model_module_version": "1.5.0",
          "state": {
            "_view_name": "HTMLView",
            "style": "IPY_MODEL_9d82b980c8454535a5a3992e6848b586",
            "_dom_classes": [],
            "description": "",
            "_model_name": "HTMLModel",
            "placeholder": "​",
            "_view_module": "@jupyter-widgets/controls",
            "_model_module_version": "1.5.0",
            "value": " 3/3 [00:00&lt;00:00, 70.92it/s]",
            "_view_count": null,
            "_view_module_version": "1.5.0",
            "description_tooltip": null,
            "_model_module": "@jupyter-widgets/controls",
            "layout": "IPY_MODEL_eb0126af99ed4cffa56cc50f2d2ab9c8"
          }
        },
        "a3a19c71b82a4b239789f4cd14cb5fcb": {
          "model_module": "@jupyter-widgets/controls",
          "model_name": "DescriptionStyleModel",
          "model_module_version": "1.5.0",
          "state": {
            "_view_name": "StyleView",
            "_model_name": "DescriptionStyleModel",
            "description_width": "",
            "_view_module": "@jupyter-widgets/base",
            "_model_module_version": "1.5.0",
            "_view_count": null,
            "_view_module_version": "1.2.0",
            "_model_module": "@jupyter-widgets/controls"
          }
        },
        "9d850e9d19374e0f83149595a6a30875": {
          "model_module": "@jupyter-widgets/base",
          "model_name": "LayoutModel",
          "model_module_version": "1.2.0",
          "state": {
            "_view_name": "LayoutView",
            "grid_template_rows": null,
            "right": null,
            "justify_content": null,
            "_view_module": "@jupyter-widgets/base",
            "overflow": null,
            "_model_module_version": "1.2.0",
            "_view_count": null,
            "flex_flow": null,
            "width": null,
            "min_width": null,
            "border": null,
            "align_items": null,
            "bottom": null,
            "_model_module": "@jupyter-widgets/base",
            "top": null,
            "grid_column": null,
            "overflow_y": null,
            "overflow_x": null,
            "grid_auto_flow": null,
            "grid_area": null,
            "grid_template_columns": null,
            "flex": null,
            "_model_name": "LayoutModel",
            "justify_items": null,
            "grid_row": null,
            "max_height": null,
            "align_content": null,
            "visibility": null,
            "align_self": null,
            "height": null,
            "min_height": null,
            "padding": null,
            "grid_auto_rows": null,
            "grid_gap": null,
            "max_width": null,
            "order": null,
            "_view_module_version": "1.2.0",
            "grid_template_areas": null,
            "object_position": null,
            "object_fit": null,
            "grid_auto_columns": null,
            "margin": null,
            "display": null,
            "left": null
          }
        },
        "5566b9c0e57347c0a9625f81f32ee497": {
          "model_module": "@jupyter-widgets/controls",
          "model_name": "ProgressStyleModel",
          "model_module_version": "1.5.0",
          "state": {
            "_view_name": "StyleView",
            "_model_name": "ProgressStyleModel",
            "description_width": "",
            "_view_module": "@jupyter-widgets/base",
            "_model_module_version": "1.5.0",
            "_view_count": null,
            "_view_module_version": "1.2.0",
            "bar_color": null,
            "_model_module": "@jupyter-widgets/controls"
          }
        },
        "0605c53d5e6245fbad505806f90603bd": {
          "model_module": "@jupyter-widgets/base",
          "model_name": "LayoutModel",
          "model_module_version": "1.2.0",
          "state": {
            "_view_name": "LayoutView",
            "grid_template_rows": null,
            "right": null,
            "justify_content": null,
            "_view_module": "@jupyter-widgets/base",
            "overflow": null,
            "_model_module_version": "1.2.0",
            "_view_count": null,
            "flex_flow": null,
            "width": null,
            "min_width": null,
            "border": null,
            "align_items": null,
            "bottom": null,
            "_model_module": "@jupyter-widgets/base",
            "top": null,
            "grid_column": null,
            "overflow_y": null,
            "overflow_x": null,
            "grid_auto_flow": null,
            "grid_area": null,
            "grid_template_columns": null,
            "flex": null,
            "_model_name": "LayoutModel",
            "justify_items": null,
            "grid_row": null,
            "max_height": null,
            "align_content": null,
            "visibility": null,
            "align_self": null,
            "height": null,
            "min_height": null,
            "padding": null,
            "grid_auto_rows": null,
            "grid_gap": null,
            "max_width": null,
            "order": null,
            "_view_module_version": "1.2.0",
            "grid_template_areas": null,
            "object_position": null,
            "object_fit": null,
            "grid_auto_columns": null,
            "margin": null,
            "display": null,
            "left": null
          }
        },
        "9d82b980c8454535a5a3992e6848b586": {
          "model_module": "@jupyter-widgets/controls",
          "model_name": "DescriptionStyleModel",
          "model_module_version": "1.5.0",
          "state": {
            "_view_name": "StyleView",
            "_model_name": "DescriptionStyleModel",
            "description_width": "",
            "_view_module": "@jupyter-widgets/base",
            "_model_module_version": "1.5.0",
            "_view_count": null,
            "_view_module_version": "1.2.0",
            "_model_module": "@jupyter-widgets/controls"
          }
        },
        "eb0126af99ed4cffa56cc50f2d2ab9c8": {
          "model_module": "@jupyter-widgets/base",
          "model_name": "LayoutModel",
          "model_module_version": "1.2.0",
          "state": {
            "_view_name": "LayoutView",
            "grid_template_rows": null,
            "right": null,
            "justify_content": null,
            "_view_module": "@jupyter-widgets/base",
            "overflow": null,
            "_model_module_version": "1.2.0",
            "_view_count": null,
            "flex_flow": null,
            "width": null,
            "min_width": null,
            "border": null,
            "align_items": null,
            "bottom": null,
            "_model_module": "@jupyter-widgets/base",
            "top": null,
            "grid_column": null,
            "overflow_y": null,
            "overflow_x": null,
            "grid_auto_flow": null,
            "grid_area": null,
            "grid_template_columns": null,
            "flex": null,
            "_model_name": "LayoutModel",
            "justify_items": null,
            "grid_row": null,
            "max_height": null,
            "align_content": null,
            "visibility": null,
            "align_self": null,
            "height": null,
            "min_height": null,
            "padding": null,
            "grid_auto_rows": null,
            "grid_gap": null,
            "max_width": null,
            "order": null,
            "_view_module_version": "1.2.0",
            "grid_template_areas": null,
            "object_position": null,
            "object_fit": null,
            "grid_auto_columns": null,
            "margin": null,
            "display": null,
            "left": null
          }
        },
        "8274880efc9e4c0caf9d3263496eb284": {
          "model_module": "@jupyter-widgets/controls",
          "model_name": "HBoxModel",
          "model_module_version": "1.5.0",
          "state": {
            "_view_name": "HBoxView",
            "_dom_classes": [],
            "_model_name": "HBoxModel",
            "_view_module": "@jupyter-widgets/controls",
            "_model_module_version": "1.5.0",
            "_view_count": null,
            "_view_module_version": "1.5.0",
            "box_style": "",
            "layout": "IPY_MODEL_c05b5256ba7b4f9a9b82ae2ba2213fb2",
            "_model_module": "@jupyter-widgets/controls",
            "children": [
              "IPY_MODEL_e9b567b19a3d4e0daddf7ebb0416e30d",
              "IPY_MODEL_d530e897f44c4fd09883ce35830ec594",
              "IPY_MODEL_aae08c7655fa4388b2d9da298c21d381"
            ]
          }
        },
        "c05b5256ba7b4f9a9b82ae2ba2213fb2": {
          "model_module": "@jupyter-widgets/base",
          "model_name": "LayoutModel",
          "model_module_version": "1.2.0",
          "state": {
            "_view_name": "LayoutView",
            "grid_template_rows": null,
            "right": null,
            "justify_content": null,
            "_view_module": "@jupyter-widgets/base",
            "overflow": null,
            "_model_module_version": "1.2.0",
            "_view_count": null,
            "flex_flow": null,
            "width": null,
            "min_width": null,
            "border": null,
            "align_items": null,
            "bottom": null,
            "_model_module": "@jupyter-widgets/base",
            "top": null,
            "grid_column": null,
            "overflow_y": null,
            "overflow_x": null,
            "grid_auto_flow": null,
            "grid_area": null,
            "grid_template_columns": null,
            "flex": null,
            "_model_name": "LayoutModel",
            "justify_items": null,
            "grid_row": null,
            "max_height": null,
            "align_content": null,
            "visibility": null,
            "align_self": null,
            "height": null,
            "min_height": null,
            "padding": null,
            "grid_auto_rows": null,
            "grid_gap": null,
            "max_width": null,
            "order": null,
            "_view_module_version": "1.2.0",
            "grid_template_areas": null,
            "object_position": null,
            "object_fit": null,
            "grid_auto_columns": null,
            "margin": null,
            "display": null,
            "left": null
          }
        },
        "e9b567b19a3d4e0daddf7ebb0416e30d": {
          "model_module": "@jupyter-widgets/controls",
          "model_name": "HTMLModel",
          "model_module_version": "1.5.0",
          "state": {
            "_view_name": "HTMLView",
            "style": "IPY_MODEL_ba6d0eea3461431ca73e8a49cad2c148",
            "_dom_classes": [],
            "description": "",
            "_model_name": "HTMLModel",
            "placeholder": "​",
            "_view_module": "@jupyter-widgets/controls",
            "_model_module_version": "1.5.0",
            "value": "replaying log with TBR, completed variants :: 100%",
            "_view_count": null,
            "_view_module_version": "1.5.0",
            "description_tooltip": null,
            "_model_module": "@jupyter-widgets/controls",
            "layout": "IPY_MODEL_ad228aa3186f45fe8e7d6a54752a6fa8"
          }
        },
        "d530e897f44c4fd09883ce35830ec594": {
          "model_module": "@jupyter-widgets/controls",
          "model_name": "FloatProgressModel",
          "model_module_version": "1.5.0",
          "state": {
            "_view_name": "ProgressView",
            "style": "IPY_MODEL_37a175c8f36a4f1280abab518a5c6e83",
            "_dom_classes": [],
            "description": "",
            "_model_name": "FloatProgressModel",
            "bar_style": "success",
            "max": 3,
            "_view_module": "@jupyter-widgets/controls",
            "_model_module_version": "1.5.0",
            "value": 3,
            "_view_count": null,
            "_view_module_version": "1.5.0",
            "orientation": "horizontal",
            "min": 0,
            "description_tooltip": null,
            "_model_module": "@jupyter-widgets/controls",
            "layout": "IPY_MODEL_51012c182c4043d5a8a006aca91825e1"
          }
        },
        "aae08c7655fa4388b2d9da298c21d381": {
          "model_module": "@jupyter-widgets/controls",
          "model_name": "HTMLModel",
          "model_module_version": "1.5.0",
          "state": {
            "_view_name": "HTMLView",
            "style": "IPY_MODEL_ed475d9d2def4d39913ee17a9fa05135",
            "_dom_classes": [],
            "description": "",
            "_model_name": "HTMLModel",
            "placeholder": "​",
            "_view_module": "@jupyter-widgets/controls",
            "_model_module_version": "1.5.0",
            "value": " 3/3 [00:00&lt;00:00, 61.66it/s]",
            "_view_count": null,
            "_view_module_version": "1.5.0",
            "description_tooltip": null,
            "_model_module": "@jupyter-widgets/controls",
            "layout": "IPY_MODEL_8245ecd3ba5647a1b31c50901c74e5c9"
          }
        },
        "ba6d0eea3461431ca73e8a49cad2c148": {
          "model_module": "@jupyter-widgets/controls",
          "model_name": "DescriptionStyleModel",
          "model_module_version": "1.5.0",
          "state": {
            "_view_name": "StyleView",
            "_model_name": "DescriptionStyleModel",
            "description_width": "",
            "_view_module": "@jupyter-widgets/base",
            "_model_module_version": "1.5.0",
            "_view_count": null,
            "_view_module_version": "1.2.0",
            "_model_module": "@jupyter-widgets/controls"
          }
        },
        "ad228aa3186f45fe8e7d6a54752a6fa8": {
          "model_module": "@jupyter-widgets/base",
          "model_name": "LayoutModel",
          "model_module_version": "1.2.0",
          "state": {
            "_view_name": "LayoutView",
            "grid_template_rows": null,
            "right": null,
            "justify_content": null,
            "_view_module": "@jupyter-widgets/base",
            "overflow": null,
            "_model_module_version": "1.2.0",
            "_view_count": null,
            "flex_flow": null,
            "width": null,
            "min_width": null,
            "border": null,
            "align_items": null,
            "bottom": null,
            "_model_module": "@jupyter-widgets/base",
            "top": null,
            "grid_column": null,
            "overflow_y": null,
            "overflow_x": null,
            "grid_auto_flow": null,
            "grid_area": null,
            "grid_template_columns": null,
            "flex": null,
            "_model_name": "LayoutModel",
            "justify_items": null,
            "grid_row": null,
            "max_height": null,
            "align_content": null,
            "visibility": null,
            "align_self": null,
            "height": null,
            "min_height": null,
            "padding": null,
            "grid_auto_rows": null,
            "grid_gap": null,
            "max_width": null,
            "order": null,
            "_view_module_version": "1.2.0",
            "grid_template_areas": null,
            "object_position": null,
            "object_fit": null,
            "grid_auto_columns": null,
            "margin": null,
            "display": null,
            "left": null
          }
        },
        "37a175c8f36a4f1280abab518a5c6e83": {
          "model_module": "@jupyter-widgets/controls",
          "model_name": "ProgressStyleModel",
          "model_module_version": "1.5.0",
          "state": {
            "_view_name": "StyleView",
            "_model_name": "ProgressStyleModel",
            "description_width": "",
            "_view_module": "@jupyter-widgets/base",
            "_model_module_version": "1.5.0",
            "_view_count": null,
            "_view_module_version": "1.2.0",
            "bar_color": null,
            "_model_module": "@jupyter-widgets/controls"
          }
        },
        "51012c182c4043d5a8a006aca91825e1": {
          "model_module": "@jupyter-widgets/base",
          "model_name": "LayoutModel",
          "model_module_version": "1.2.0",
          "state": {
            "_view_name": "LayoutView",
            "grid_template_rows": null,
            "right": null,
            "justify_content": null,
            "_view_module": "@jupyter-widgets/base",
            "overflow": null,
            "_model_module_version": "1.2.0",
            "_view_count": null,
            "flex_flow": null,
            "width": null,
            "min_width": null,
            "border": null,
            "align_items": null,
            "bottom": null,
            "_model_module": "@jupyter-widgets/base",
            "top": null,
            "grid_column": null,
            "overflow_y": null,
            "overflow_x": null,
            "grid_auto_flow": null,
            "grid_area": null,
            "grid_template_columns": null,
            "flex": null,
            "_model_name": "LayoutModel",
            "justify_items": null,
            "grid_row": null,
            "max_height": null,
            "align_content": null,
            "visibility": null,
            "align_self": null,
            "height": null,
            "min_height": null,
            "padding": null,
            "grid_auto_rows": null,
            "grid_gap": null,
            "max_width": null,
            "order": null,
            "_view_module_version": "1.2.0",
            "grid_template_areas": null,
            "object_position": null,
            "object_fit": null,
            "grid_auto_columns": null,
            "margin": null,
            "display": null,
            "left": null
          }
        },
        "ed475d9d2def4d39913ee17a9fa05135": {
          "model_module": "@jupyter-widgets/controls",
          "model_name": "DescriptionStyleModel",
          "model_module_version": "1.5.0",
          "state": {
            "_view_name": "StyleView",
            "_model_name": "DescriptionStyleModel",
            "description_width": "",
            "_view_module": "@jupyter-widgets/base",
            "_model_module_version": "1.5.0",
            "_view_count": null,
            "_view_module_version": "1.2.0",
            "_model_module": "@jupyter-widgets/controls"
          }
        },
        "8245ecd3ba5647a1b31c50901c74e5c9": {
          "model_module": "@jupyter-widgets/base",
          "model_name": "LayoutModel",
          "model_module_version": "1.2.0",
          "state": {
            "_view_name": "LayoutView",
            "grid_template_rows": null,
            "right": null,
            "justify_content": null,
            "_view_module": "@jupyter-widgets/base",
            "overflow": null,
            "_model_module_version": "1.2.0",
            "_view_count": null,
            "flex_flow": null,
            "width": null,
            "min_width": null,
            "border": null,
            "align_items": null,
            "bottom": null,
            "_model_module": "@jupyter-widgets/base",
            "top": null,
            "grid_column": null,
            "overflow_y": null,
            "overflow_x": null,
            "grid_auto_flow": null,
            "grid_area": null,
            "grid_template_columns": null,
            "flex": null,
            "_model_name": "LayoutModel",
            "justify_items": null,
            "grid_row": null,
            "max_height": null,
            "align_content": null,
            "visibility": null,
            "align_self": null,
            "height": null,
            "min_height": null,
            "padding": null,
            "grid_auto_rows": null,
            "grid_gap": null,
            "max_width": null,
            "order": null,
            "_view_module_version": "1.2.0",
            "grid_template_areas": null,
            "object_position": null,
            "object_fit": null,
            "grid_auto_columns": null,
            "margin": null,
            "display": null,
            "left": null
          }
        }
      }
    }
  },
  "cells": [
    {
      "cell_type": "code",
      "metadata": {
        "colab": {
          "base_uri": "https://localhost:8080/"
        },
        "id": "nnKGfSbRlXdB",
        "outputId": "45a073f4-a697-437d-b21b-07e101461dcd"
      },
      "source": [
        "# mengkoneksikan colab dengan google drive\n",
        "from google.colab import drive\n",
        "drive.mount('/content/drive')"
      ],
      "execution_count": null,
      "outputs": [
        {
          "output_type": "stream",
          "name": "stdout",
          "text": [
            "Mounted at /content/drive\n"
          ]
        }
      ]
    },
    {
      "cell_type": "code",
      "metadata": {
        "colab": {
          "base_uri": "https://localhost:8080/"
        },
        "id": "STW6zpnCuxfp",
        "outputId": "88438dd6-f109-4a28-f835-13ace6a2bef5"
      },
      "source": [
        "from google.colab import drive\n",
        "drive.mount('/content/drive')"
      ],
      "execution_count": null,
      "outputs": [
        {
          "output_type": "stream",
          "name": "stdout",
          "text": [
            "Drive already mounted at /content/drive; to attempt to forcibly remount, call drive.mount(\"/content/drive\", force_remount=True).\n"
          ]
        }
      ]
    },
    {
      "cell_type": "code",
      "metadata": {
        "id": "HC9H7ipMSoWA"
      },
      "source": [
        "# Import library\n",
        "import pandas as pd\n",
        "import numpy as np\n",
        "#from datetime import date\n",
        "from IPython.display import Image\n",
        "pd.options.mode.chained_assignment = None  # default='warn'"
      ],
      "execution_count": null,
      "outputs": []
    },
    {
      "cell_type": "code",
      "metadata": {
        "colab": {
          "base_uri": "https://localhost:8080/"
        },
        "id": "jby_-o0fl4oJ",
        "outputId": "565645f0-5f5e-422b-9356-8ce286fd4e54"
      },
      "source": [
        "%ls"
      ],
      "execution_count": null,
      "outputs": [
        {
          "output_type": "stream",
          "name": "stdout",
          "text": [
            "\u001b[0m\u001b[01;34mdrive\u001b[0m/  \u001b[01;34msample_data\u001b[0m/\n"
          ]
        }
      ]
    },
    {
      "cell_type": "code",
      "metadata": {
        "id": "F5HDT9ZiUf0W"
      },
      "source": [
        "# import dataset kedalam program python\n",
        "event_df = pd.read_csv('drive/MyDrive/running-example.csv', sep=';', low_memory=False)"
      ],
      "execution_count": null,
      "outputs": []
    },
    {
      "cell_type": "code",
      "metadata": {
        "colab": {
          "base_uri": "https://localhost:8080/",
          "height": 206
        },
        "id": "X6My839SnpHs",
        "outputId": "dcc99ea5-8481-42e3-9c30-44a914c8f2e0"
      },
      "source": [
        "# Melihat Ringkasan dataset\n",
        "event_df.head()"
      ],
      "execution_count": null,
      "outputs": [
        {
          "output_type": "execute_result",
          "data": {
            "text/html": [
              "<div>\n",
              "<style scoped>\n",
              "    .dataframe tbody tr th:only-of-type {\n",
              "        vertical-align: middle;\n",
              "    }\n",
              "\n",
              "    .dataframe tbody tr th {\n",
              "        vertical-align: top;\n",
              "    }\n",
              "\n",
              "    .dataframe thead th {\n",
              "        text-align: right;\n",
              "    }\n",
              "</style>\n",
              "<table border=\"1\" class=\"dataframe\">\n",
              "  <thead>\n",
              "    <tr style=\"text-align: right;\">\n",
              "      <th></th>\n",
              "      <th>case_id</th>\n",
              "      <th>activity</th>\n",
              "      <th>timestamp</th>\n",
              "      <th>costs</th>\n",
              "      <th>resource</th>\n",
              "    </tr>\n",
              "  </thead>\n",
              "  <tbody>\n",
              "    <tr>\n",
              "      <th>0</th>\n",
              "      <td>3</td>\n",
              "      <td>register request</td>\n",
              "      <td>2010-12-30 14:32:00+01:00</td>\n",
              "      <td>50</td>\n",
              "      <td>Pete</td>\n",
              "    </tr>\n",
              "    <tr>\n",
              "      <th>1</th>\n",
              "      <td>3</td>\n",
              "      <td>examine casually</td>\n",
              "      <td>2010-12-30 15:06:00+01:00</td>\n",
              "      <td>400</td>\n",
              "      <td>Mike</td>\n",
              "    </tr>\n",
              "    <tr>\n",
              "      <th>2</th>\n",
              "      <td>3</td>\n",
              "      <td>check ticket</td>\n",
              "      <td>2010-12-30 16:34:00+01:00</td>\n",
              "      <td>100</td>\n",
              "      <td>Ellen</td>\n",
              "    </tr>\n",
              "    <tr>\n",
              "      <th>3</th>\n",
              "      <td>3</td>\n",
              "      <td>decide</td>\n",
              "      <td>2011-01-06 09:18:00+01:00</td>\n",
              "      <td>200</td>\n",
              "      <td>Sara</td>\n",
              "    </tr>\n",
              "    <tr>\n",
              "      <th>4</th>\n",
              "      <td>3</td>\n",
              "      <td>reinitiate request</td>\n",
              "      <td>2011-01-06 12:18:00+01:00</td>\n",
              "      <td>200</td>\n",
              "      <td>Sara</td>\n",
              "    </tr>\n",
              "  </tbody>\n",
              "</table>\n",
              "</div>"
            ],
            "text/plain": [
              "   case_id            activity                  timestamp  costs resource\n",
              "0        3    register request  2010-12-30 14:32:00+01:00     50     Pete\n",
              "1        3    examine casually  2010-12-30 15:06:00+01:00    400     Mike\n",
              "2        3        check ticket  2010-12-30 16:34:00+01:00    100    Ellen\n",
              "3        3              decide  2011-01-06 09:18:00+01:00    200     Sara\n",
              "4        3  reinitiate request  2011-01-06 12:18:00+01:00    200     Sara"
            ]
          },
          "metadata": {},
          "execution_count": 6
        }
      ]
    },
    {
      "cell_type": "code",
      "metadata": {
        "colab": {
          "base_uri": "https://localhost:8080/"
        },
        "id": "g0xjHWoXn1qN",
        "outputId": "3564ae5f-0464-401c-c4db-3584a3361cfd"
      },
      "source": [
        "# melihat bentuk pada dataset\n",
        "print('{} rows and {} columns.'.format(event_df.shape[0], event_df.shape[1]))"
      ],
      "execution_count": null,
      "outputs": [
        {
          "output_type": "stream",
          "name": "stdout",
          "text": [
            "42 rows and 5 columns.\n"
          ]
        }
      ]
    },
    {
      "cell_type": "code",
      "metadata": {
        "id": "NcTHTN6roFrT"
      },
      "source": [
        "# melakukan pemilihan column yang digunakan dan membentuk dataset baru\n",
        "events = event_df[['case_id', 'activity', 'timestamp']]"
      ],
      "execution_count": null,
      "outputs": []
    },
    {
      "cell_type": "code",
      "metadata": {
        "id": "9NdhkG8GoMQO"
      },
      "source": [
        "# merubah nama colum yang digunakan pada dataset\n",
        "events.rename(columns={'Case_id':'case',\n",
        "                       'activity':'label',\n",
        "                       'timestamp':'datetime'\n",
        "                       }, inplace=True)"
      ],
      "execution_count": null,
      "outputs": []
    },
    {
      "cell_type": "code",
      "metadata": {
        "colab": {
          "base_uri": "https://localhost:8080/",
          "height": 206
        },
        "id": "DO_ubbosoSjI",
        "outputId": "d785c445-871b-432f-ff51-b99d6e810192"
      },
      "source": [
        "# melihat ringkasan dataset\n",
        "events.head()"
      ],
      "execution_count": null,
      "outputs": [
        {
          "output_type": "execute_result",
          "data": {
            "text/html": [
              "<div>\n",
              "<style scoped>\n",
              "    .dataframe tbody tr th:only-of-type {\n",
              "        vertical-align: middle;\n",
              "    }\n",
              "\n",
              "    .dataframe tbody tr th {\n",
              "        vertical-align: top;\n",
              "    }\n",
              "\n",
              "    .dataframe thead th {\n",
              "        text-align: right;\n",
              "    }\n",
              "</style>\n",
              "<table border=\"1\" class=\"dataframe\">\n",
              "  <thead>\n",
              "    <tr style=\"text-align: right;\">\n",
              "      <th></th>\n",
              "      <th>case_id</th>\n",
              "      <th>label</th>\n",
              "      <th>datetime</th>\n",
              "    </tr>\n",
              "  </thead>\n",
              "  <tbody>\n",
              "    <tr>\n",
              "      <th>0</th>\n",
              "      <td>3</td>\n",
              "      <td>register request</td>\n",
              "      <td>2010-12-30 14:32:00+01:00</td>\n",
              "    </tr>\n",
              "    <tr>\n",
              "      <th>1</th>\n",
              "      <td>3</td>\n",
              "      <td>examine casually</td>\n",
              "      <td>2010-12-30 15:06:00+01:00</td>\n",
              "    </tr>\n",
              "    <tr>\n",
              "      <th>2</th>\n",
              "      <td>3</td>\n",
              "      <td>check ticket</td>\n",
              "      <td>2010-12-30 16:34:00+01:00</td>\n",
              "    </tr>\n",
              "    <tr>\n",
              "      <th>3</th>\n",
              "      <td>3</td>\n",
              "      <td>decide</td>\n",
              "      <td>2011-01-06 09:18:00+01:00</td>\n",
              "    </tr>\n",
              "    <tr>\n",
              "      <th>4</th>\n",
              "      <td>3</td>\n",
              "      <td>reinitiate request</td>\n",
              "      <td>2011-01-06 12:18:00+01:00</td>\n",
              "    </tr>\n",
              "  </tbody>\n",
              "</table>\n",
              "</div>"
            ],
            "text/plain": [
              "   case_id               label                   datetime\n",
              "0        3    register request  2010-12-30 14:32:00+01:00\n",
              "1        3    examine casually  2010-12-30 15:06:00+01:00\n",
              "2        3        check ticket  2010-12-30 16:34:00+01:00\n",
              "3        3              decide  2011-01-06 09:18:00+01:00\n",
              "4        3  reinitiate request  2011-01-06 12:18:00+01:00"
            ]
          },
          "metadata": {},
          "execution_count": 10
        }
      ]
    },
    {
      "cell_type": "code",
      "metadata": {
        "colab": {
          "base_uri": "https://localhost:8080/"
        },
        "id": "SeazbRKIotIr",
        "outputId": "9eb5ef8d-d8e6-4132-a60b-efbe923a14fc"
      },
      "source": [
        "# melihat type data pada dataset\n",
        "events.dtypes"
      ],
      "execution_count": null,
      "outputs": [
        {
          "output_type": "execute_result",
          "data": {
            "text/plain": [
              "case_id      int64\n",
              "label       object\n",
              "datetime    object\n",
              "dtype: object"
            ]
          },
          "metadata": {},
          "execution_count": 11
        }
      ]
    },
    {
      "cell_type": "code",
      "metadata": {
        "id": "BFHeWPlOpF-b"
      },
      "source": [
        "# merubah type data pada colum case menjadi string (object)\n",
        "events['case_id'] = events.astype(str)"
      ],
      "execution_count": null,
      "outputs": []
    },
    {
      "cell_type": "code",
      "metadata": {
        "id": "R49ucQykpTHj"
      },
      "source": [
        "# merubah type data pada column datetime menjadi datetime\n",
        "events['datetime'] = pd.to_datetime(events['datetime'])"
      ],
      "execution_count": null,
      "outputs": []
    },
    {
      "cell_type": "code",
      "metadata": {
        "colab": {
          "base_uri": "https://localhost:8080/"
        },
        "id": "NXytKERPqBiO",
        "outputId": "ffbb7e0e-b580-47b7-93b6-939ded6e64ba"
      },
      "source": [
        "# melihat type data pada dataset\n",
        "events.dtypes"
      ],
      "execution_count": null,
      "outputs": [
        {
          "output_type": "execute_result",
          "data": {
            "text/plain": [
              "case_id                                   object\n",
              "label                                     object\n",
              "datetime    datetime64[ns, pytz.FixedOffset(60)]\n",
              "dtype: object"
            ]
          },
          "metadata": {},
          "execution_count": 14
        }
      ]
    },
    {
      "cell_type": "code",
      "metadata": {
        "colab": {
          "base_uri": "https://localhost:8080/"
        },
        "id": "usWHfF-lqI3o",
        "outputId": "4291ed53-a4da-4cf3-d970-9528d472ad88"
      },
      "source": [
        "# melakukan pengecekan missing value pada dataset\n",
        "events.isna().sum()"
      ],
      "execution_count": null,
      "outputs": [
        {
          "output_type": "execute_result",
          "data": {
            "text/plain": [
              "case_id     0\n",
              "label       0\n",
              "datetime    0\n",
              "dtype: int64"
            ]
          },
          "metadata": {},
          "execution_count": 15
        }
      ]
    },
    {
      "cell_type": "code",
      "metadata": {
        "colab": {
          "base_uri": "https://localhost:8080/",
          "height": 206
        },
        "id": "QGSCAlGtqdch",
        "outputId": "8dd1fb93-1dbd-4396-9a4d-b1aea577f35d"
      },
      "source": [
        "events.head()"
      ],
      "execution_count": null,
      "outputs": [
        {
          "output_type": "execute_result",
          "data": {
            "text/html": [
              "<div>\n",
              "<style scoped>\n",
              "    .dataframe tbody tr th:only-of-type {\n",
              "        vertical-align: middle;\n",
              "    }\n",
              "\n",
              "    .dataframe tbody tr th {\n",
              "        vertical-align: top;\n",
              "    }\n",
              "\n",
              "    .dataframe thead th {\n",
              "        text-align: right;\n",
              "    }\n",
              "</style>\n",
              "<table border=\"1\" class=\"dataframe\">\n",
              "  <thead>\n",
              "    <tr style=\"text-align: right;\">\n",
              "      <th></th>\n",
              "      <th>case_id</th>\n",
              "      <th>label</th>\n",
              "      <th>datetime</th>\n",
              "    </tr>\n",
              "  </thead>\n",
              "  <tbody>\n",
              "    <tr>\n",
              "      <th>0</th>\n",
              "      <td>3</td>\n",
              "      <td>register request</td>\n",
              "      <td>2010-12-30 14:32:00+01:00</td>\n",
              "    </tr>\n",
              "    <tr>\n",
              "      <th>1</th>\n",
              "      <td>3</td>\n",
              "      <td>examine casually</td>\n",
              "      <td>2010-12-30 15:06:00+01:00</td>\n",
              "    </tr>\n",
              "    <tr>\n",
              "      <th>2</th>\n",
              "      <td>3</td>\n",
              "      <td>check ticket</td>\n",
              "      <td>2010-12-30 16:34:00+01:00</td>\n",
              "    </tr>\n",
              "    <tr>\n",
              "      <th>3</th>\n",
              "      <td>3</td>\n",
              "      <td>decide</td>\n",
              "      <td>2011-01-06 09:18:00+01:00</td>\n",
              "    </tr>\n",
              "    <tr>\n",
              "      <th>4</th>\n",
              "      <td>3</td>\n",
              "      <td>reinitiate request</td>\n",
              "      <td>2011-01-06 12:18:00+01:00</td>\n",
              "    </tr>\n",
              "  </tbody>\n",
              "</table>\n",
              "</div>"
            ],
            "text/plain": [
              "  case_id               label                  datetime\n",
              "0       3    register request 2010-12-30 14:32:00+01:00\n",
              "1       3    examine casually 2010-12-30 15:06:00+01:00\n",
              "2       3        check ticket 2010-12-30 16:34:00+01:00\n",
              "3       3              decide 2011-01-06 09:18:00+01:00\n",
              "4       3  reinitiate request 2011-01-06 12:18:00+01:00"
            ]
          },
          "metadata": {},
          "execution_count": 16
        }
      ]
    },
    {
      "cell_type": "code",
      "metadata": {
        "colab": {
          "base_uri": "https://localhost:8080/"
        },
        "id": "oa78uLeEqpmN",
        "outputId": "5bf5c266-d630-40e5-fcaa-04db87445dce"
      },
      "source": [
        "# Installasi modul PM4PY\n",
        "!pip install pm4py"
      ],
      "execution_count": null,
      "outputs": [
        {
          "output_type": "stream",
          "name": "stdout",
          "text": [
            "Collecting pm4py\n",
            "  Downloading pm4py-2.2.14-py3-none-any.whl (1.5 MB)\n",
            "\u001b[?25l\r\u001b[K     |▏                               | 10 kB 23.8 MB/s eta 0:00:01\r\u001b[K     |▍                               | 20 kB 9.8 MB/s eta 0:00:01\r\u001b[K     |▋                               | 30 kB 8.1 MB/s eta 0:00:01\r\u001b[K     |▉                               | 40 kB 7.5 MB/s eta 0:00:01\r\u001b[K     |█                               | 51 kB 3.9 MB/s eta 0:00:01\r\u001b[K     |█▎                              | 61 kB 4.4 MB/s eta 0:00:01\r\u001b[K     |█▌                              | 71 kB 4.3 MB/s eta 0:00:01\r\u001b[K     |█▊                              | 81 kB 4.8 MB/s eta 0:00:01\r\u001b[K     |██                              | 92 kB 3.7 MB/s eta 0:00:01\r\u001b[K     |██▏                             | 102 kB 3.9 MB/s eta 0:00:01\r\u001b[K     |██▍                             | 112 kB 3.9 MB/s eta 0:00:01\r\u001b[K     |██▋                             | 122 kB 3.9 MB/s eta 0:00:01\r\u001b[K     |██▉                             | 133 kB 3.9 MB/s eta 0:00:01\r\u001b[K     |███                             | 143 kB 3.9 MB/s eta 0:00:01\r\u001b[K     |███▎                            | 153 kB 3.9 MB/s eta 0:00:01\r\u001b[K     |███▌                            | 163 kB 3.9 MB/s eta 0:00:01\r\u001b[K     |███▊                            | 174 kB 3.9 MB/s eta 0:00:01\r\u001b[K     |███▉                            | 184 kB 3.9 MB/s eta 0:00:01\r\u001b[K     |████                            | 194 kB 3.9 MB/s eta 0:00:01\r\u001b[K     |████▎                           | 204 kB 3.9 MB/s eta 0:00:01\r\u001b[K     |████▌                           | 215 kB 3.9 MB/s eta 0:00:01\r\u001b[K     |████▊                           | 225 kB 3.9 MB/s eta 0:00:01\r\u001b[K     |█████                           | 235 kB 3.9 MB/s eta 0:00:01\r\u001b[K     |█████▏                          | 245 kB 3.9 MB/s eta 0:00:01\r\u001b[K     |█████▍                          | 256 kB 3.9 MB/s eta 0:00:01\r\u001b[K     |█████▋                          | 266 kB 3.9 MB/s eta 0:00:01\r\u001b[K     |█████▉                          | 276 kB 3.9 MB/s eta 0:00:01\r\u001b[K     |██████                          | 286 kB 3.9 MB/s eta 0:00:01\r\u001b[K     |██████▎                         | 296 kB 3.9 MB/s eta 0:00:01\r\u001b[K     |██████▌                         | 307 kB 3.9 MB/s eta 0:00:01\r\u001b[K     |██████▊                         | 317 kB 3.9 MB/s eta 0:00:01\r\u001b[K     |███████                         | 327 kB 3.9 MB/s eta 0:00:01\r\u001b[K     |███████▏                        | 337 kB 3.9 MB/s eta 0:00:01\r\u001b[K     |███████▍                        | 348 kB 3.9 MB/s eta 0:00:01\r\u001b[K     |███████▌                        | 358 kB 3.9 MB/s eta 0:00:01\r\u001b[K     |███████▊                        | 368 kB 3.9 MB/s eta 0:00:01\r\u001b[K     |████████                        | 378 kB 3.9 MB/s eta 0:00:01\r\u001b[K     |████████▏                       | 389 kB 3.9 MB/s eta 0:00:01\r\u001b[K     |████████▍                       | 399 kB 3.9 MB/s eta 0:00:01\r\u001b[K     |████████▋                       | 409 kB 3.9 MB/s eta 0:00:01\r\u001b[K     |████████▉                       | 419 kB 3.9 MB/s eta 0:00:01\r\u001b[K     |█████████                       | 430 kB 3.9 MB/s eta 0:00:01\r\u001b[K     |█████████▎                      | 440 kB 3.9 MB/s eta 0:00:01\r\u001b[K     |█████████▌                      | 450 kB 3.9 MB/s eta 0:00:01\r\u001b[K     |█████████▊                      | 460 kB 3.9 MB/s eta 0:00:01\r\u001b[K     |██████████                      | 471 kB 3.9 MB/s eta 0:00:01\r\u001b[K     |██████████▏                     | 481 kB 3.9 MB/s eta 0:00:01\r\u001b[K     |██████████▍                     | 491 kB 3.9 MB/s eta 0:00:01\r\u001b[K     |██████████▋                     | 501 kB 3.9 MB/s eta 0:00:01\r\u001b[K     |██████████▉                     | 512 kB 3.9 MB/s eta 0:00:01\r\u001b[K     |███████████                     | 522 kB 3.9 MB/s eta 0:00:01\r\u001b[K     |███████████▏                    | 532 kB 3.9 MB/s eta 0:00:01\r\u001b[K     |███████████▍                    | 542 kB 3.9 MB/s eta 0:00:01\r\u001b[K     |███████████▋                    | 552 kB 3.9 MB/s eta 0:00:01\r\u001b[K     |███████████▉                    | 563 kB 3.9 MB/s eta 0:00:01\r\u001b[K     |████████████                    | 573 kB 3.9 MB/s eta 0:00:01\r\u001b[K     |████████████▎                   | 583 kB 3.9 MB/s eta 0:00:01\r\u001b[K     |████████████▌                   | 593 kB 3.9 MB/s eta 0:00:01\r\u001b[K     |████████████▊                   | 604 kB 3.9 MB/s eta 0:00:01\r\u001b[K     |█████████████                   | 614 kB 3.9 MB/s eta 0:00:01\r\u001b[K     |█████████████▏                  | 624 kB 3.9 MB/s eta 0:00:01\r\u001b[K     |█████████████▍                  | 634 kB 3.9 MB/s eta 0:00:01\r\u001b[K     |█████████████▋                  | 645 kB 3.9 MB/s eta 0:00:01\r\u001b[K     |█████████████▉                  | 655 kB 3.9 MB/s eta 0:00:01\r\u001b[K     |██████████████                  | 665 kB 3.9 MB/s eta 0:00:01\r\u001b[K     |██████████████▎                 | 675 kB 3.9 MB/s eta 0:00:01\r\u001b[K     |██████████████▌                 | 686 kB 3.9 MB/s eta 0:00:01\r\u001b[K     |██████████████▊                 | 696 kB 3.9 MB/s eta 0:00:01\r\u001b[K     |██████████████▉                 | 706 kB 3.9 MB/s eta 0:00:01\r\u001b[K     |███████████████                 | 716 kB 3.9 MB/s eta 0:00:01\r\u001b[K     |███████████████▎                | 727 kB 3.9 MB/s eta 0:00:01\r\u001b[K     |███████████████▌                | 737 kB 3.9 MB/s eta 0:00:01\r\u001b[K     |███████████████▊                | 747 kB 3.9 MB/s eta 0:00:01\r\u001b[K     |████████████████                | 757 kB 3.9 MB/s eta 0:00:01\r\u001b[K     |████████████████▏               | 768 kB 3.9 MB/s eta 0:00:01\r\u001b[K     |████████████████▍               | 778 kB 3.9 MB/s eta 0:00:01\r\u001b[K     |████████████████▋               | 788 kB 3.9 MB/s eta 0:00:01\r\u001b[K     |████████████████▉               | 798 kB 3.9 MB/s eta 0:00:01\r\u001b[K     |█████████████████               | 808 kB 3.9 MB/s eta 0:00:01\r\u001b[K     |█████████████████▎              | 819 kB 3.9 MB/s eta 0:00:01\r\u001b[K     |█████████████████▌              | 829 kB 3.9 MB/s eta 0:00:01\r\u001b[K     |█████████████████▊              | 839 kB 3.9 MB/s eta 0:00:01\r\u001b[K     |██████████████████              | 849 kB 3.9 MB/s eta 0:00:01\r\u001b[K     |██████████████████▏             | 860 kB 3.9 MB/s eta 0:00:01\r\u001b[K     |██████████████████▍             | 870 kB 3.9 MB/s eta 0:00:01\r\u001b[K     |██████████████████▋             | 880 kB 3.9 MB/s eta 0:00:01\r\u001b[K     |██████████████████▊             | 890 kB 3.9 MB/s eta 0:00:01\r\u001b[K     |███████████████████             | 901 kB 3.9 MB/s eta 0:00:01\r\u001b[K     |███████████████████▏            | 911 kB 3.9 MB/s eta 0:00:01\r\u001b[K     |███████████████████▍            | 921 kB 3.9 MB/s eta 0:00:01\r\u001b[K     |███████████████████▋            | 931 kB 3.9 MB/s eta 0:00:01\r\u001b[K     |███████████████████▉            | 942 kB 3.9 MB/s eta 0:00:01\r\u001b[K     |████████████████████            | 952 kB 3.9 MB/s eta 0:00:01\r\u001b[K     |████████████████████▎           | 962 kB 3.9 MB/s eta 0:00:01\r\u001b[K     |████████████████████▌           | 972 kB 3.9 MB/s eta 0:00:01\r\u001b[K     |████████████████████▊           | 983 kB 3.9 MB/s eta 0:00:01\r\u001b[K     |█████████████████████           | 993 kB 3.9 MB/s eta 0:00:01\r\u001b[K     |█████████████████████▏          | 1.0 MB 3.9 MB/s eta 0:00:01\r\u001b[K     |█████████████████████▍          | 1.0 MB 3.9 MB/s eta 0:00:01\r\u001b[K     |█████████████████████▋          | 1.0 MB 3.9 MB/s eta 0:00:01\r\u001b[K     |█████████████████████▉          | 1.0 MB 3.9 MB/s eta 0:00:01\r\u001b[K     |██████████████████████          | 1.0 MB 3.9 MB/s eta 0:00:01\r\u001b[K     |██████████████████████▎         | 1.1 MB 3.9 MB/s eta 0:00:01\r\u001b[K     |██████████████████████▍         | 1.1 MB 3.9 MB/s eta 0:00:01\r\u001b[K     |██████████████████████▋         | 1.1 MB 3.9 MB/s eta 0:00:01\r\u001b[K     |██████████████████████▉         | 1.1 MB 3.9 MB/s eta 0:00:01\r\u001b[K     |███████████████████████         | 1.1 MB 3.9 MB/s eta 0:00:01\r\u001b[K     |███████████████████████▎        | 1.1 MB 3.9 MB/s eta 0:00:01\r\u001b[K     |███████████████████████▌        | 1.1 MB 3.9 MB/s eta 0:00:01\r\u001b[K     |███████████████████████▊        | 1.1 MB 3.9 MB/s eta 0:00:01\r\u001b[K     |████████████████████████        | 1.1 MB 3.9 MB/s eta 0:00:01\r\u001b[K     |████████████████████████▏       | 1.1 MB 3.9 MB/s eta 0:00:01\r\u001b[K     |████████████████████████▍       | 1.2 MB 3.9 MB/s eta 0:00:01\r\u001b[K     |████████████████████████▋       | 1.2 MB 3.9 MB/s eta 0:00:01\r\u001b[K     |████████████████████████▉       | 1.2 MB 3.9 MB/s eta 0:00:01\r\u001b[K     |█████████████████████████       | 1.2 MB 3.9 MB/s eta 0:00:01\r\u001b[K     |█████████████████████████▎      | 1.2 MB 3.9 MB/s eta 0:00:01\r\u001b[K     |█████████████████████████▌      | 1.2 MB 3.9 MB/s eta 0:00:01\r\u001b[K     |█████████████████████████▊      | 1.2 MB 3.9 MB/s eta 0:00:01\r\u001b[K     |██████████████████████████      | 1.2 MB 3.9 MB/s eta 0:00:01\r\u001b[K     |██████████████████████████      | 1.2 MB 3.9 MB/s eta 0:00:01\r\u001b[K     |██████████████████████████▎     | 1.2 MB 3.9 MB/s eta 0:00:01\r\u001b[K     |██████████████████████████▌     | 1.3 MB 3.9 MB/s eta 0:00:01\r\u001b[K     |██████████████████████████▊     | 1.3 MB 3.9 MB/s eta 0:00:01\r\u001b[K     |███████████████████████████     | 1.3 MB 3.9 MB/s eta 0:00:01\r\u001b[K     |███████████████████████████▏    | 1.3 MB 3.9 MB/s eta 0:00:01\r\u001b[K     |███████████████████████████▍    | 1.3 MB 3.9 MB/s eta 0:00:01\r\u001b[K     |███████████████████████████▋    | 1.3 MB 3.9 MB/s eta 0:00:01\r\u001b[K     |███████████████████████████▉    | 1.3 MB 3.9 MB/s eta 0:00:01\r\u001b[K     |████████████████████████████    | 1.3 MB 3.9 MB/s eta 0:00:01\r\u001b[K     |████████████████████████████▎   | 1.3 MB 3.9 MB/s eta 0:00:01\r\u001b[K     |████████████████████████████▌   | 1.4 MB 3.9 MB/s eta 0:00:01\r\u001b[K     |████████████████████████████▊   | 1.4 MB 3.9 MB/s eta 0:00:01\r\u001b[K     |█████████████████████████████   | 1.4 MB 3.9 MB/s eta 0:00:01\r\u001b[K     |█████████████████████████████▏  | 1.4 MB 3.9 MB/s eta 0:00:01\r\u001b[K     |█████████████████████████████▍  | 1.4 MB 3.9 MB/s eta 0:00:01\r\u001b[K     |█████████████████████████████▋  | 1.4 MB 3.9 MB/s eta 0:00:01\r\u001b[K     |█████████████████████████████▊  | 1.4 MB 3.9 MB/s eta 0:00:01\r\u001b[K     |██████████████████████████████  | 1.4 MB 3.9 MB/s eta 0:00:01\r\u001b[K     |██████████████████████████████▏ | 1.4 MB 3.9 MB/s eta 0:00:01\r\u001b[K     |██████████████████████████████▍ | 1.4 MB 3.9 MB/s eta 0:00:01\r\u001b[K     |██████████████████████████████▋ | 1.5 MB 3.9 MB/s eta 0:00:01\r\u001b[K     |██████████████████████████████▉ | 1.5 MB 3.9 MB/s eta 0:00:01\r\u001b[K     |███████████████████████████████ | 1.5 MB 3.9 MB/s eta 0:00:01\r\u001b[K     |███████████████████████████████▎| 1.5 MB 3.9 MB/s eta 0:00:01\r\u001b[K     |███████████████████████████████▌| 1.5 MB 3.9 MB/s eta 0:00:01\r\u001b[K     |███████████████████████████████▊| 1.5 MB 3.9 MB/s eta 0:00:01\r\u001b[K     |████████████████████████████████| 1.5 MB 3.9 MB/s eta 0:00:01\r\u001b[K     |████████████████████████████████| 1.5 MB 3.9 MB/s \n",
            "\u001b[?25hRequirement already satisfied: numpy>=1.19.5 in /usr/local/lib/python3.7/dist-packages (from pm4py) (1.19.5)\n",
            "Collecting stringdist\n",
            "  Downloading StringDist-1.0.9.tar.gz (7.4 kB)\n",
            "Requirement already satisfied: pandas>=1.1.5 in /usr/local/lib/python3.7/dist-packages (from pm4py) (1.1.5)\n",
            "Requirement already satisfied: graphviz in /usr/local/lib/python3.7/dist-packages (from pm4py) (0.10.1)\n",
            "Requirement already satisfied: pydotplus in /usr/local/lib/python3.7/dist-packages (from pm4py) (2.0.2)\n",
            "Requirement already satisfied: pytz in /usr/local/lib/python3.7/dist-packages (from pm4py) (2018.9)\n",
            "Requirement already satisfied: scipy in /usr/local/lib/python3.7/dist-packages (from pm4py) (1.4.1)\n",
            "Collecting deprecation\n",
            "  Downloading deprecation-2.1.0-py2.py3-none-any.whl (11 kB)\n",
            "Requirement already satisfied: tqdm in /usr/local/lib/python3.7/dist-packages (from pm4py) (4.62.3)\n",
            "Requirement already satisfied: scikit-learn in /usr/local/lib/python3.7/dist-packages (from pm4py) (0.22.2.post1)\n",
            "Collecting jsonpickle\n",
            "  Downloading jsonpickle-2.0.0-py2.py3-none-any.whl (37 kB)\n",
            "Requirement already satisfied: intervaltree in /usr/local/lib/python3.7/dist-packages (from pm4py) (2.1.0)\n",
            "Requirement already satisfied: cvxopt in /usr/local/lib/python3.7/dist-packages (from pm4py) (1.2.7)\n",
            "Requirement already satisfied: sympy in /usr/local/lib/python3.7/dist-packages (from pm4py) (1.7.1)\n",
            "Requirement already satisfied: networkx in /usr/local/lib/python3.7/dist-packages (from pm4py) (2.6.3)\n",
            "Collecting pulp<=2.1\n",
            "  Downloading PuLP-2.1-py3-none-any.whl (40.6 MB)\n",
            "\u001b[K     |████████████████████████████████| 40.6 MB 74 kB/s \n",
            "\u001b[?25hCollecting pyvis\n",
            "  Downloading pyvis-0.1.9-py3-none-any.whl (23 kB)\n",
            "Requirement already satisfied: lxml in /usr/local/lib/python3.7/dist-packages (from pm4py) (4.2.6)\n",
            "Requirement already satisfied: matplotlib in /usr/local/lib/python3.7/dist-packages (from pm4py) (3.2.2)\n",
            "Requirement already satisfied: python-dateutil>=2.7.3 in /usr/local/lib/python3.7/dist-packages (from pandas>=1.1.5->pm4py) (2.8.2)\n",
            "Requirement already satisfied: pyparsing>=2.0.1 in /usr/local/lib/python3.7/dist-packages (from pulp<=2.1->pm4py) (2.4.7)\n",
            "Requirement already satisfied: six>=1.5 in /usr/local/lib/python3.7/dist-packages (from python-dateutil>=2.7.3->pandas>=1.1.5->pm4py) (1.15.0)\n",
            "Requirement already satisfied: packaging in /usr/local/lib/python3.7/dist-packages (from deprecation->pm4py) (21.0)\n",
            "Requirement already satisfied: sortedcontainers in /usr/local/lib/python3.7/dist-packages (from intervaltree->pm4py) (2.4.0)\n",
            "Requirement already satisfied: importlib-metadata in /usr/local/lib/python3.7/dist-packages (from jsonpickle->pm4py) (4.8.1)\n",
            "Requirement already satisfied: typing-extensions>=3.6.4 in /usr/local/lib/python3.7/dist-packages (from importlib-metadata->jsonpickle->pm4py) (3.7.4.3)\n",
            "Requirement already satisfied: zipp>=0.5 in /usr/local/lib/python3.7/dist-packages (from importlib-metadata->jsonpickle->pm4py) (3.5.0)\n",
            "Requirement already satisfied: cycler>=0.10 in /usr/local/lib/python3.7/dist-packages (from matplotlib->pm4py) (0.10.0)\n",
            "Requirement already satisfied: kiwisolver>=1.0.1 in /usr/local/lib/python3.7/dist-packages (from matplotlib->pm4py) (1.3.2)\n",
            "Requirement already satisfied: jinja2>=2.9.6 in /usr/local/lib/python3.7/dist-packages (from pyvis->pm4py) (2.11.3)\n",
            "Requirement already satisfied: ipython>=5.3.0 in /usr/local/lib/python3.7/dist-packages (from pyvis->pm4py) (5.5.0)\n",
            "Requirement already satisfied: decorator in /usr/local/lib/python3.7/dist-packages (from ipython>=5.3.0->pyvis->pm4py) (4.4.2)\n",
            "Requirement already satisfied: pexpect in /usr/local/lib/python3.7/dist-packages (from ipython>=5.3.0->pyvis->pm4py) (4.8.0)\n",
            "Requirement already satisfied: setuptools>=18.5 in /usr/local/lib/python3.7/dist-packages (from ipython>=5.3.0->pyvis->pm4py) (57.4.0)\n",
            "Requirement already satisfied: simplegeneric>0.8 in /usr/local/lib/python3.7/dist-packages (from ipython>=5.3.0->pyvis->pm4py) (0.8.1)\n",
            "Requirement already satisfied: pygments in /usr/local/lib/python3.7/dist-packages (from ipython>=5.3.0->pyvis->pm4py) (2.6.1)\n",
            "Requirement already satisfied: prompt-toolkit<2.0.0,>=1.0.4 in /usr/local/lib/python3.7/dist-packages (from ipython>=5.3.0->pyvis->pm4py) (1.0.18)\n",
            "Requirement already satisfied: traitlets>=4.2 in /usr/local/lib/python3.7/dist-packages (from ipython>=5.3.0->pyvis->pm4py) (5.1.0)\n",
            "Requirement already satisfied: pickleshare in /usr/local/lib/python3.7/dist-packages (from ipython>=5.3.0->pyvis->pm4py) (0.7.5)\n",
            "Requirement already satisfied: MarkupSafe>=0.23 in /usr/local/lib/python3.7/dist-packages (from jinja2>=2.9.6->pyvis->pm4py) (2.0.1)\n",
            "Requirement already satisfied: wcwidth in /usr/local/lib/python3.7/dist-packages (from prompt-toolkit<2.0.0,>=1.0.4->ipython>=5.3.0->pyvis->pm4py) (0.2.5)\n",
            "Requirement already satisfied: ptyprocess>=0.5 in /usr/local/lib/python3.7/dist-packages (from pexpect->ipython>=5.3.0->pyvis->pm4py) (0.7.0)\n",
            "Requirement already satisfied: joblib>=0.11 in /usr/local/lib/python3.7/dist-packages (from scikit-learn->pm4py) (1.0.1)\n",
            "Requirement already satisfied: mpmath>=0.19 in /usr/local/lib/python3.7/dist-packages (from sympy->pm4py) (1.2.1)\n",
            "Building wheels for collected packages: stringdist\n",
            "  Building wheel for stringdist (setup.py) ... \u001b[?25l\u001b[?25hdone\n",
            "  Created wheel for stringdist: filename=StringDist-1.0.9-cp37-cp37m-linux_x86_64.whl size=23594 sha256=068394c4524a0678baa6ab62a71a7e9c7758999626bedca1414e84aed1abb5a5\n",
            "  Stored in directory: /root/.cache/pip/wheels/d7/9c/d4/63bc3d8931de0980b9e4a724dea290bb40b8b1b2bd6227c8da\n",
            "Successfully built stringdist\n",
            "Installing collected packages: jsonpickle, stringdist, pyvis, pulp, deprecation, pm4py\n",
            "Successfully installed deprecation-2.1.0 jsonpickle-2.0.0 pm4py-2.2.14 pulp-2.1 pyvis-0.1.9 stringdist-1.0.9\n"
          ]
        }
      ]
    },
    {
      "cell_type": "code",
      "metadata": {
        "id": "xCi25jlDrM7o"
      },
      "source": [
        "events.rename(columns={'datetime': 'time:timestamp', 'case_id': 'case:concept:name', 'label': 'concept:name'}, inplace=True)"
      ],
      "execution_count": null,
      "outputs": []
    },
    {
      "cell_type": "code",
      "metadata": {
        "id": "BLf5LWTBrmAV"
      },
      "source": [
        "from pm4py.algo.filtering.pandas.start_activities import start_activities_filter\n",
        "log_start = start_activities_filter.get_start_activities(events)\n",
        "df_start_activities = start_activities_filter.apply(events, [\"register request\"])"
      ],
      "execution_count": null,
      "outputs": []
    },
    {
      "cell_type": "code",
      "metadata": {
        "colab": {
          "base_uri": "https://localhost:8080/"
        },
        "id": "0sXLIQ2r3P5h",
        "outputId": "c44c9a43-4c4e-4106-e3f6-266ac0903afa"
      },
      "source": [
        "print(events)"
      ],
      "execution_count": null,
      "outputs": [
        {
          "output_type": "stream",
          "name": "stdout",
          "text": [
            "   case:concept:name        concept:name            time:timestamp\n",
            "0                  3    register request 2010-12-30 14:32:00+01:00\n",
            "1                  3    examine casually 2010-12-30 15:06:00+01:00\n",
            "2                  3        check ticket 2010-12-30 16:34:00+01:00\n",
            "3                  3              decide 2011-01-06 09:18:00+01:00\n",
            "4                  3  reinitiate request 2011-01-06 12:18:00+01:00\n",
            "5                  3  examine thoroughly 2011-01-06 13:06:00+01:00\n",
            "6                  3        check ticket 2011-01-08 11:43:00+01:00\n",
            "7                  3              decide 2011-01-09 09:55:00+01:00\n",
            "8                  3    pay compensation 2011-01-15 10:45:00+01:00\n",
            "9                  2    register request 2010-12-30 11:32:00+01:00\n",
            "10                 2        check ticket 2010-12-30 12:12:00+01:00\n",
            "11                 2    examine casually 2010-12-30 14:16:00+01:00\n",
            "12                 2              decide 2011-01-05 11:22:00+01:00\n",
            "13                 2    pay compensation 2011-01-08 12:05:00+01:00\n",
            "14                 1    register request 2010-12-30 11:02:00+01:00\n",
            "15                 1  examine thoroughly 2010-12-31 10:06:00+01:00\n",
            "16                 1        check ticket 2011-01-05 15:12:00+01:00\n",
            "17                 1              decide 2011-01-06 11:18:00+01:00\n",
            "18                 1      reject request 2011-01-07 14:24:00+01:00\n",
            "19                 6    register request 2011-01-06 15:02:00+01:00\n",
            "20                 6    examine casually 2011-01-06 16:06:00+01:00\n",
            "21                 6        check ticket 2011-01-07 16:22:00+01:00\n",
            "22                 6              decide 2011-01-07 16:52:00+01:00\n",
            "23                 6    pay compensation 2011-01-16 11:47:00+01:00\n",
            "24                 5    register request 2011-01-06 09:02:00+01:00\n",
            "25                 5    examine casually 2011-01-07 10:16:00+01:00\n",
            "26                 5        check ticket 2011-01-08 11:22:00+01:00\n",
            "27                 5              decide 2011-01-10 13:28:00+01:00\n",
            "28                 5  reinitiate request 2011-01-11 16:18:00+01:00\n",
            "29                 5        check ticket 2011-01-14 14:33:00+01:00\n",
            "30                 5    examine casually 2011-01-16 15:50:00+01:00\n",
            "31                 5              decide 2011-01-19 11:18:00+01:00\n",
            "32                 5  reinitiate request 2011-01-20 12:48:00+01:00\n",
            "33                 5    examine casually 2011-01-21 09:06:00+01:00\n",
            "34                 5        check ticket 2011-01-21 11:34:00+01:00\n",
            "35                 5              decide 2011-01-23 13:12:00+01:00\n",
            "36                 5      reject request 2011-01-24 14:56:00+01:00\n",
            "37                 4    register request 2011-01-06 15:02:00+01:00\n",
            "38                 4        check ticket 2011-01-07 12:06:00+01:00\n",
            "39                 4  examine thoroughly 2011-01-08 14:43:00+01:00\n",
            "40                 4              decide 2011-01-09 12:02:00+01:00\n",
            "41                 4      reject request 2011-01-12 15:44:00+01:00\n"
          ]
        }
      ]
    },
    {
      "cell_type": "code",
      "metadata": {
        "colab": {
          "base_uri": "https://localhost:8080/",
          "height": 1000
        },
        "id": "z5Ah9cOfsA1P",
        "outputId": "1986531c-6535-4df6-bd52-9944cb72afb7"
      },
      "source": [
        "df_start_activities"
      ],
      "execution_count": null,
      "outputs": [
        {
          "output_type": "execute_result",
          "data": {
            "text/html": [
              "<div>\n",
              "<style scoped>\n",
              "    .dataframe tbody tr th:only-of-type {\n",
              "        vertical-align: middle;\n",
              "    }\n",
              "\n",
              "    .dataframe tbody tr th {\n",
              "        vertical-align: top;\n",
              "    }\n",
              "\n",
              "    .dataframe thead th {\n",
              "        text-align: right;\n",
              "    }\n",
              "</style>\n",
              "<table border=\"1\" class=\"dataframe\">\n",
              "  <thead>\n",
              "    <tr style=\"text-align: right;\">\n",
              "      <th></th>\n",
              "      <th>case:concept:name</th>\n",
              "      <th>concept:name</th>\n",
              "      <th>time:timestamp</th>\n",
              "    </tr>\n",
              "  </thead>\n",
              "  <tbody>\n",
              "    <tr>\n",
              "      <th>0</th>\n",
              "      <td>3</td>\n",
              "      <td>register request</td>\n",
              "      <td>2010-12-30 14:32:00+01:00</td>\n",
              "    </tr>\n",
              "    <tr>\n",
              "      <th>1</th>\n",
              "      <td>3</td>\n",
              "      <td>examine casually</td>\n",
              "      <td>2010-12-30 15:06:00+01:00</td>\n",
              "    </tr>\n",
              "    <tr>\n",
              "      <th>2</th>\n",
              "      <td>3</td>\n",
              "      <td>check ticket</td>\n",
              "      <td>2010-12-30 16:34:00+01:00</td>\n",
              "    </tr>\n",
              "    <tr>\n",
              "      <th>3</th>\n",
              "      <td>3</td>\n",
              "      <td>decide</td>\n",
              "      <td>2011-01-06 09:18:00+01:00</td>\n",
              "    </tr>\n",
              "    <tr>\n",
              "      <th>4</th>\n",
              "      <td>3</td>\n",
              "      <td>reinitiate request</td>\n",
              "      <td>2011-01-06 12:18:00+01:00</td>\n",
              "    </tr>\n",
              "    <tr>\n",
              "      <th>5</th>\n",
              "      <td>3</td>\n",
              "      <td>examine thoroughly</td>\n",
              "      <td>2011-01-06 13:06:00+01:00</td>\n",
              "    </tr>\n",
              "    <tr>\n",
              "      <th>6</th>\n",
              "      <td>3</td>\n",
              "      <td>check ticket</td>\n",
              "      <td>2011-01-08 11:43:00+01:00</td>\n",
              "    </tr>\n",
              "    <tr>\n",
              "      <th>7</th>\n",
              "      <td>3</td>\n",
              "      <td>decide</td>\n",
              "      <td>2011-01-09 09:55:00+01:00</td>\n",
              "    </tr>\n",
              "    <tr>\n",
              "      <th>8</th>\n",
              "      <td>3</td>\n",
              "      <td>pay compensation</td>\n",
              "      <td>2011-01-15 10:45:00+01:00</td>\n",
              "    </tr>\n",
              "    <tr>\n",
              "      <th>9</th>\n",
              "      <td>2</td>\n",
              "      <td>register request</td>\n",
              "      <td>2010-12-30 11:32:00+01:00</td>\n",
              "    </tr>\n",
              "    <tr>\n",
              "      <th>10</th>\n",
              "      <td>2</td>\n",
              "      <td>check ticket</td>\n",
              "      <td>2010-12-30 12:12:00+01:00</td>\n",
              "    </tr>\n",
              "    <tr>\n",
              "      <th>11</th>\n",
              "      <td>2</td>\n",
              "      <td>examine casually</td>\n",
              "      <td>2010-12-30 14:16:00+01:00</td>\n",
              "    </tr>\n",
              "    <tr>\n",
              "      <th>12</th>\n",
              "      <td>2</td>\n",
              "      <td>decide</td>\n",
              "      <td>2011-01-05 11:22:00+01:00</td>\n",
              "    </tr>\n",
              "    <tr>\n",
              "      <th>13</th>\n",
              "      <td>2</td>\n",
              "      <td>pay compensation</td>\n",
              "      <td>2011-01-08 12:05:00+01:00</td>\n",
              "    </tr>\n",
              "    <tr>\n",
              "      <th>14</th>\n",
              "      <td>1</td>\n",
              "      <td>register request</td>\n",
              "      <td>2010-12-30 11:02:00+01:00</td>\n",
              "    </tr>\n",
              "    <tr>\n",
              "      <th>15</th>\n",
              "      <td>1</td>\n",
              "      <td>examine thoroughly</td>\n",
              "      <td>2010-12-31 10:06:00+01:00</td>\n",
              "    </tr>\n",
              "    <tr>\n",
              "      <th>16</th>\n",
              "      <td>1</td>\n",
              "      <td>check ticket</td>\n",
              "      <td>2011-01-05 15:12:00+01:00</td>\n",
              "    </tr>\n",
              "    <tr>\n",
              "      <th>17</th>\n",
              "      <td>1</td>\n",
              "      <td>decide</td>\n",
              "      <td>2011-01-06 11:18:00+01:00</td>\n",
              "    </tr>\n",
              "    <tr>\n",
              "      <th>18</th>\n",
              "      <td>1</td>\n",
              "      <td>reject request</td>\n",
              "      <td>2011-01-07 14:24:00+01:00</td>\n",
              "    </tr>\n",
              "    <tr>\n",
              "      <th>19</th>\n",
              "      <td>6</td>\n",
              "      <td>register request</td>\n",
              "      <td>2011-01-06 15:02:00+01:00</td>\n",
              "    </tr>\n",
              "    <tr>\n",
              "      <th>20</th>\n",
              "      <td>6</td>\n",
              "      <td>examine casually</td>\n",
              "      <td>2011-01-06 16:06:00+01:00</td>\n",
              "    </tr>\n",
              "    <tr>\n",
              "      <th>21</th>\n",
              "      <td>6</td>\n",
              "      <td>check ticket</td>\n",
              "      <td>2011-01-07 16:22:00+01:00</td>\n",
              "    </tr>\n",
              "    <tr>\n",
              "      <th>22</th>\n",
              "      <td>6</td>\n",
              "      <td>decide</td>\n",
              "      <td>2011-01-07 16:52:00+01:00</td>\n",
              "    </tr>\n",
              "    <tr>\n",
              "      <th>23</th>\n",
              "      <td>6</td>\n",
              "      <td>pay compensation</td>\n",
              "      <td>2011-01-16 11:47:00+01:00</td>\n",
              "    </tr>\n",
              "    <tr>\n",
              "      <th>24</th>\n",
              "      <td>5</td>\n",
              "      <td>register request</td>\n",
              "      <td>2011-01-06 09:02:00+01:00</td>\n",
              "    </tr>\n",
              "    <tr>\n",
              "      <th>25</th>\n",
              "      <td>5</td>\n",
              "      <td>examine casually</td>\n",
              "      <td>2011-01-07 10:16:00+01:00</td>\n",
              "    </tr>\n",
              "    <tr>\n",
              "      <th>26</th>\n",
              "      <td>5</td>\n",
              "      <td>check ticket</td>\n",
              "      <td>2011-01-08 11:22:00+01:00</td>\n",
              "    </tr>\n",
              "    <tr>\n",
              "      <th>27</th>\n",
              "      <td>5</td>\n",
              "      <td>decide</td>\n",
              "      <td>2011-01-10 13:28:00+01:00</td>\n",
              "    </tr>\n",
              "    <tr>\n",
              "      <th>28</th>\n",
              "      <td>5</td>\n",
              "      <td>reinitiate request</td>\n",
              "      <td>2011-01-11 16:18:00+01:00</td>\n",
              "    </tr>\n",
              "    <tr>\n",
              "      <th>29</th>\n",
              "      <td>5</td>\n",
              "      <td>check ticket</td>\n",
              "      <td>2011-01-14 14:33:00+01:00</td>\n",
              "    </tr>\n",
              "    <tr>\n",
              "      <th>30</th>\n",
              "      <td>5</td>\n",
              "      <td>examine casually</td>\n",
              "      <td>2011-01-16 15:50:00+01:00</td>\n",
              "    </tr>\n",
              "    <tr>\n",
              "      <th>31</th>\n",
              "      <td>5</td>\n",
              "      <td>decide</td>\n",
              "      <td>2011-01-19 11:18:00+01:00</td>\n",
              "    </tr>\n",
              "    <tr>\n",
              "      <th>32</th>\n",
              "      <td>5</td>\n",
              "      <td>reinitiate request</td>\n",
              "      <td>2011-01-20 12:48:00+01:00</td>\n",
              "    </tr>\n",
              "    <tr>\n",
              "      <th>33</th>\n",
              "      <td>5</td>\n",
              "      <td>examine casually</td>\n",
              "      <td>2011-01-21 09:06:00+01:00</td>\n",
              "    </tr>\n",
              "    <tr>\n",
              "      <th>34</th>\n",
              "      <td>5</td>\n",
              "      <td>check ticket</td>\n",
              "      <td>2011-01-21 11:34:00+01:00</td>\n",
              "    </tr>\n",
              "    <tr>\n",
              "      <th>35</th>\n",
              "      <td>5</td>\n",
              "      <td>decide</td>\n",
              "      <td>2011-01-23 13:12:00+01:00</td>\n",
              "    </tr>\n",
              "    <tr>\n",
              "      <th>36</th>\n",
              "      <td>5</td>\n",
              "      <td>reject request</td>\n",
              "      <td>2011-01-24 14:56:00+01:00</td>\n",
              "    </tr>\n",
              "    <tr>\n",
              "      <th>37</th>\n",
              "      <td>4</td>\n",
              "      <td>register request</td>\n",
              "      <td>2011-01-06 15:02:00+01:00</td>\n",
              "    </tr>\n",
              "    <tr>\n",
              "      <th>38</th>\n",
              "      <td>4</td>\n",
              "      <td>check ticket</td>\n",
              "      <td>2011-01-07 12:06:00+01:00</td>\n",
              "    </tr>\n",
              "    <tr>\n",
              "      <th>39</th>\n",
              "      <td>4</td>\n",
              "      <td>examine thoroughly</td>\n",
              "      <td>2011-01-08 14:43:00+01:00</td>\n",
              "    </tr>\n",
              "    <tr>\n",
              "      <th>40</th>\n",
              "      <td>4</td>\n",
              "      <td>decide</td>\n",
              "      <td>2011-01-09 12:02:00+01:00</td>\n",
              "    </tr>\n",
              "    <tr>\n",
              "      <th>41</th>\n",
              "      <td>4</td>\n",
              "      <td>reject request</td>\n",
              "      <td>2011-01-12 15:44:00+01:00</td>\n",
              "    </tr>\n",
              "  </tbody>\n",
              "</table>\n",
              "</div>"
            ],
            "text/plain": [
              "   case:concept:name        concept:name            time:timestamp\n",
              "0                  3    register request 2010-12-30 14:32:00+01:00\n",
              "1                  3    examine casually 2010-12-30 15:06:00+01:00\n",
              "2                  3        check ticket 2010-12-30 16:34:00+01:00\n",
              "3                  3              decide 2011-01-06 09:18:00+01:00\n",
              "4                  3  reinitiate request 2011-01-06 12:18:00+01:00\n",
              "5                  3  examine thoroughly 2011-01-06 13:06:00+01:00\n",
              "6                  3        check ticket 2011-01-08 11:43:00+01:00\n",
              "7                  3              decide 2011-01-09 09:55:00+01:00\n",
              "8                  3    pay compensation 2011-01-15 10:45:00+01:00\n",
              "9                  2    register request 2010-12-30 11:32:00+01:00\n",
              "10                 2        check ticket 2010-12-30 12:12:00+01:00\n",
              "11                 2    examine casually 2010-12-30 14:16:00+01:00\n",
              "12                 2              decide 2011-01-05 11:22:00+01:00\n",
              "13                 2    pay compensation 2011-01-08 12:05:00+01:00\n",
              "14                 1    register request 2010-12-30 11:02:00+01:00\n",
              "15                 1  examine thoroughly 2010-12-31 10:06:00+01:00\n",
              "16                 1        check ticket 2011-01-05 15:12:00+01:00\n",
              "17                 1              decide 2011-01-06 11:18:00+01:00\n",
              "18                 1      reject request 2011-01-07 14:24:00+01:00\n",
              "19                 6    register request 2011-01-06 15:02:00+01:00\n",
              "20                 6    examine casually 2011-01-06 16:06:00+01:00\n",
              "21                 6        check ticket 2011-01-07 16:22:00+01:00\n",
              "22                 6              decide 2011-01-07 16:52:00+01:00\n",
              "23                 6    pay compensation 2011-01-16 11:47:00+01:00\n",
              "24                 5    register request 2011-01-06 09:02:00+01:00\n",
              "25                 5    examine casually 2011-01-07 10:16:00+01:00\n",
              "26                 5        check ticket 2011-01-08 11:22:00+01:00\n",
              "27                 5              decide 2011-01-10 13:28:00+01:00\n",
              "28                 5  reinitiate request 2011-01-11 16:18:00+01:00\n",
              "29                 5        check ticket 2011-01-14 14:33:00+01:00\n",
              "30                 5    examine casually 2011-01-16 15:50:00+01:00\n",
              "31                 5              decide 2011-01-19 11:18:00+01:00\n",
              "32                 5  reinitiate request 2011-01-20 12:48:00+01:00\n",
              "33                 5    examine casually 2011-01-21 09:06:00+01:00\n",
              "34                 5        check ticket 2011-01-21 11:34:00+01:00\n",
              "35                 5              decide 2011-01-23 13:12:00+01:00\n",
              "36                 5      reject request 2011-01-24 14:56:00+01:00\n",
              "37                 4    register request 2011-01-06 15:02:00+01:00\n",
              "38                 4        check ticket 2011-01-07 12:06:00+01:00\n",
              "39                 4  examine thoroughly 2011-01-08 14:43:00+01:00\n",
              "40                 4              decide 2011-01-09 12:02:00+01:00\n",
              "41                 4      reject request 2011-01-12 15:44:00+01:00"
            ]
          },
          "metadata": {},
          "execution_count": 21
        }
      ]
    },
    {
      "cell_type": "code",
      "metadata": {
        "id": "9XYjnH4ysk9Y"
      },
      "source": [
        "from pm4py.algo.filtering.pandas.end_activities import end_activities_filter\n",
        "end_activities = end_activities_filter.get_end_activities(df_start_activities)\n",
        "filtered_df = end_activities_filter.apply(df_start_activities, [\"pay compensation\"])"
      ],
      "execution_count": null,
      "outputs": []
    },
    {
      "cell_type": "code",
      "metadata": {
        "colab": {
          "base_uri": "https://localhost:8080/",
          "height": 645
        },
        "id": "HoapvW_qtCsk",
        "outputId": "ee5fc140-30bd-4822-8c86-05db2bb7bd90"
      },
      "source": [
        "filtered_df"
      ],
      "execution_count": null,
      "outputs": [
        {
          "output_type": "execute_result",
          "data": {
            "text/html": [
              "<div>\n",
              "<style scoped>\n",
              "    .dataframe tbody tr th:only-of-type {\n",
              "        vertical-align: middle;\n",
              "    }\n",
              "\n",
              "    .dataframe tbody tr th {\n",
              "        vertical-align: top;\n",
              "    }\n",
              "\n",
              "    .dataframe thead th {\n",
              "        text-align: right;\n",
              "    }\n",
              "</style>\n",
              "<table border=\"1\" class=\"dataframe\">\n",
              "  <thead>\n",
              "    <tr style=\"text-align: right;\">\n",
              "      <th></th>\n",
              "      <th>case:concept:name</th>\n",
              "      <th>concept:name</th>\n",
              "      <th>time:timestamp</th>\n",
              "    </tr>\n",
              "  </thead>\n",
              "  <tbody>\n",
              "    <tr>\n",
              "      <th>0</th>\n",
              "      <td>3</td>\n",
              "      <td>register request</td>\n",
              "      <td>2010-12-30 14:32:00+01:00</td>\n",
              "    </tr>\n",
              "    <tr>\n",
              "      <th>1</th>\n",
              "      <td>3</td>\n",
              "      <td>examine casually</td>\n",
              "      <td>2010-12-30 15:06:00+01:00</td>\n",
              "    </tr>\n",
              "    <tr>\n",
              "      <th>2</th>\n",
              "      <td>3</td>\n",
              "      <td>check ticket</td>\n",
              "      <td>2010-12-30 16:34:00+01:00</td>\n",
              "    </tr>\n",
              "    <tr>\n",
              "      <th>3</th>\n",
              "      <td>3</td>\n",
              "      <td>decide</td>\n",
              "      <td>2011-01-06 09:18:00+01:00</td>\n",
              "    </tr>\n",
              "    <tr>\n",
              "      <th>4</th>\n",
              "      <td>3</td>\n",
              "      <td>reinitiate request</td>\n",
              "      <td>2011-01-06 12:18:00+01:00</td>\n",
              "    </tr>\n",
              "    <tr>\n",
              "      <th>5</th>\n",
              "      <td>3</td>\n",
              "      <td>examine thoroughly</td>\n",
              "      <td>2011-01-06 13:06:00+01:00</td>\n",
              "    </tr>\n",
              "    <tr>\n",
              "      <th>6</th>\n",
              "      <td>3</td>\n",
              "      <td>check ticket</td>\n",
              "      <td>2011-01-08 11:43:00+01:00</td>\n",
              "    </tr>\n",
              "    <tr>\n",
              "      <th>7</th>\n",
              "      <td>3</td>\n",
              "      <td>decide</td>\n",
              "      <td>2011-01-09 09:55:00+01:00</td>\n",
              "    </tr>\n",
              "    <tr>\n",
              "      <th>8</th>\n",
              "      <td>3</td>\n",
              "      <td>pay compensation</td>\n",
              "      <td>2011-01-15 10:45:00+01:00</td>\n",
              "    </tr>\n",
              "    <tr>\n",
              "      <th>9</th>\n",
              "      <td>2</td>\n",
              "      <td>register request</td>\n",
              "      <td>2010-12-30 11:32:00+01:00</td>\n",
              "    </tr>\n",
              "    <tr>\n",
              "      <th>10</th>\n",
              "      <td>2</td>\n",
              "      <td>check ticket</td>\n",
              "      <td>2010-12-30 12:12:00+01:00</td>\n",
              "    </tr>\n",
              "    <tr>\n",
              "      <th>11</th>\n",
              "      <td>2</td>\n",
              "      <td>examine casually</td>\n",
              "      <td>2010-12-30 14:16:00+01:00</td>\n",
              "    </tr>\n",
              "    <tr>\n",
              "      <th>12</th>\n",
              "      <td>2</td>\n",
              "      <td>decide</td>\n",
              "      <td>2011-01-05 11:22:00+01:00</td>\n",
              "    </tr>\n",
              "    <tr>\n",
              "      <th>13</th>\n",
              "      <td>2</td>\n",
              "      <td>pay compensation</td>\n",
              "      <td>2011-01-08 12:05:00+01:00</td>\n",
              "    </tr>\n",
              "    <tr>\n",
              "      <th>19</th>\n",
              "      <td>6</td>\n",
              "      <td>register request</td>\n",
              "      <td>2011-01-06 15:02:00+01:00</td>\n",
              "    </tr>\n",
              "    <tr>\n",
              "      <th>20</th>\n",
              "      <td>6</td>\n",
              "      <td>examine casually</td>\n",
              "      <td>2011-01-06 16:06:00+01:00</td>\n",
              "    </tr>\n",
              "    <tr>\n",
              "      <th>21</th>\n",
              "      <td>6</td>\n",
              "      <td>check ticket</td>\n",
              "      <td>2011-01-07 16:22:00+01:00</td>\n",
              "    </tr>\n",
              "    <tr>\n",
              "      <th>22</th>\n",
              "      <td>6</td>\n",
              "      <td>decide</td>\n",
              "      <td>2011-01-07 16:52:00+01:00</td>\n",
              "    </tr>\n",
              "    <tr>\n",
              "      <th>23</th>\n",
              "      <td>6</td>\n",
              "      <td>pay compensation</td>\n",
              "      <td>2011-01-16 11:47:00+01:00</td>\n",
              "    </tr>\n",
              "  </tbody>\n",
              "</table>\n",
              "</div>"
            ],
            "text/plain": [
              "   case:concept:name        concept:name            time:timestamp\n",
              "0                  3    register request 2010-12-30 14:32:00+01:00\n",
              "1                  3    examine casually 2010-12-30 15:06:00+01:00\n",
              "2                  3        check ticket 2010-12-30 16:34:00+01:00\n",
              "3                  3              decide 2011-01-06 09:18:00+01:00\n",
              "4                  3  reinitiate request 2011-01-06 12:18:00+01:00\n",
              "5                  3  examine thoroughly 2011-01-06 13:06:00+01:00\n",
              "6                  3        check ticket 2011-01-08 11:43:00+01:00\n",
              "7                  3              decide 2011-01-09 09:55:00+01:00\n",
              "8                  3    pay compensation 2011-01-15 10:45:00+01:00\n",
              "9                  2    register request 2010-12-30 11:32:00+01:00\n",
              "10                 2        check ticket 2010-12-30 12:12:00+01:00\n",
              "11                 2    examine casually 2010-12-30 14:16:00+01:00\n",
              "12                 2              decide 2011-01-05 11:22:00+01:00\n",
              "13                 2    pay compensation 2011-01-08 12:05:00+01:00\n",
              "19                 6    register request 2011-01-06 15:02:00+01:00\n",
              "20                 6    examine casually 2011-01-06 16:06:00+01:00\n",
              "21                 6        check ticket 2011-01-07 16:22:00+01:00\n",
              "22                 6              decide 2011-01-07 16:52:00+01:00\n",
              "23                 6    pay compensation 2011-01-16 11:47:00+01:00"
            ]
          },
          "metadata": {},
          "execution_count": 23
        }
      ]
    },
    {
      "cell_type": "code",
      "metadata": {
        "id": "wmu6NQ1utXYl"
      },
      "source": [
        "from pm4py.statistics.traces.generic.pandas import case_statistics\n",
        "variants_count = case_statistics.get_variant_statistics(filtered_df)\n",
        "variants_count = sorted(variants_count, key=lambda x: x['case:concept:name'], reverse=True)"
      ],
      "execution_count": null,
      "outputs": []
    },
    {
      "cell_type": "code",
      "metadata": {
        "colab": {
          "base_uri": "https://localhost:8080/"
        },
        "id": "ROVPvZt3tdbm",
        "outputId": "f6b329cd-cd24-48d0-d35b-81007c16f119"
      },
      "source": [
        "variants_count"
      ],
      "execution_count": null,
      "outputs": [
        {
          "output_type": "execute_result",
          "data": {
            "text/plain": [
              "[{'case:concept:name': 1,\n",
              "  'variant': 'register request,examine casually,check ticket,decide,reinitiate request,examine thoroughly,check ticket,decide,pay compensation'},\n",
              " {'case:concept:name': 1,\n",
              "  'variant': 'register request,examine casually,check ticket,decide,pay compensation'},\n",
              " {'case:concept:name': 1,\n",
              "  'variant': 'register request,check ticket,examine casually,decide,pay compensation'}]"
            ]
          },
          "metadata": {},
          "execution_count": 25
        }
      ]
    },
    {
      "cell_type": "code",
      "metadata": {
        "id": "PiMrMgvVtq5t"
      },
      "source": [
        "df = pd.DataFrame(variants_count)"
      ],
      "execution_count": null,
      "outputs": []
    },
    {
      "cell_type": "code",
      "metadata": {
        "colab": {
          "base_uri": "https://localhost:8080/",
          "height": 143
        },
        "id": "jq-NnFEttww5",
        "outputId": "3e892980-0810-4445-d872-dd7b57df5b56"
      },
      "source": [
        "df"
      ],
      "execution_count": null,
      "outputs": [
        {
          "output_type": "execute_result",
          "data": {
            "text/html": [
              "<div>\n",
              "<style scoped>\n",
              "    .dataframe tbody tr th:only-of-type {\n",
              "        vertical-align: middle;\n",
              "    }\n",
              "\n",
              "    .dataframe tbody tr th {\n",
              "        vertical-align: top;\n",
              "    }\n",
              "\n",
              "    .dataframe thead th {\n",
              "        text-align: right;\n",
              "    }\n",
              "</style>\n",
              "<table border=\"1\" class=\"dataframe\">\n",
              "  <thead>\n",
              "    <tr style=\"text-align: right;\">\n",
              "      <th></th>\n",
              "      <th>variant</th>\n",
              "      <th>case:concept:name</th>\n",
              "    </tr>\n",
              "  </thead>\n",
              "  <tbody>\n",
              "    <tr>\n",
              "      <th>0</th>\n",
              "      <td>register request,examine casually,check ticket...</td>\n",
              "      <td>1</td>\n",
              "    </tr>\n",
              "    <tr>\n",
              "      <th>1</th>\n",
              "      <td>register request,examine casually,check ticket...</td>\n",
              "      <td>1</td>\n",
              "    </tr>\n",
              "    <tr>\n",
              "      <th>2</th>\n",
              "      <td>register request,check ticket,examine casually...</td>\n",
              "      <td>1</td>\n",
              "    </tr>\n",
              "  </tbody>\n",
              "</table>\n",
              "</div>"
            ],
            "text/plain": [
              "                                             variant  case:concept:name\n",
              "0  register request,examine casually,check ticket...                  1\n",
              "1  register request,examine casually,check ticket...                  1\n",
              "2  register request,check ticket,examine casually...                  1"
            ]
          },
          "metadata": {},
          "execution_count": 27
        }
      ]
    },
    {
      "cell_type": "code",
      "metadata": {
        "id": "4cpD267LusXk"
      },
      "source": [
        "from pm4py.objects.conversion.log import converter as log_converter\n",
        "\n",
        "# mengkonversi dataset csv kedalam bentuk format log XES\n",
        "log = log_converter.apply(filtered_df)"
      ],
      "execution_count": null,
      "outputs": []
    },
    {
      "cell_type": "code",
      "metadata": {
        "colab": {
          "base_uri": "https://localhost:8080/"
        },
        "id": "nRrKuJVju83h",
        "outputId": "20b65159-cc84-4bb0-a2b2-46fad81ccc00"
      },
      "source": [
        "log"
      ],
      "execution_count": null,
      "outputs": [
        {
          "output_type": "execute_result",
          "data": {
            "text/plain": [
              "[{'attributes': {'concept:name': '3'}, 'events': [{'concept:name': 'register request', 'time:timestamp': Timestamp('2010-12-30 14:32:00+0100', tz='pytz.FixedOffset(60)')}, '..', {'concept:name': 'pay compensation', 'time:timestamp': Timestamp('2011-01-15 10:45:00+0100', tz='pytz.FixedOffset(60)')}]}, '....', {'attributes': {'concept:name': '6'}, 'events': [{'concept:name': 'register request', 'time:timestamp': Timestamp('2011-01-06 15:02:00+0100', tz='pytz.FixedOffset(60)')}, '..', {'concept:name': 'pay compensation', 'time:timestamp': Timestamp('2011-01-16 11:47:00+0100', tz='pytz.FixedOffset(60)')}]}]"
            ]
          },
          "metadata": {},
          "execution_count": 29
        }
      ]
    },
    {
      "cell_type": "code",
      "metadata": {
        "id": "1jIxtCPRvat1"
      },
      "source": [
        "from pm4py.algo.discovery.inductive import algorithm as inductive_miner\n",
        "\n",
        "net, initial_marking, final_marking = inductive_miner.apply(log)"
      ],
      "execution_count": null,
      "outputs": []
    },
    {
      "cell_type": "code",
      "metadata": {
        "colab": {
          "base_uri": "https://localhost:8080/",
          "height": 537
        },
        "id": "1WB8NJ4P1VL4",
        "outputId": "6df00e38-4377-45ee-a742-fad437052aa0"
      },
      "source": [
        "# create Alpha_Miner\n",
        "net, initial_marking, final_marking = alpha_miner.apply(log)\n",
        "\n",
        "# viz\n",
        "gviz = pn_visualizer.apply(net, initial_marking, final_marking)\n",
        "Image(pn_visualizer.view(gviz))"
      ],
      "execution_count": null,
      "outputs": [
        {
          "output_type": "display_data",
          "data": {
            "image/png": "[encoded data removed]",
            "text/plain": [
              "<IPython.core.display.Image object>"
            ]
          },
          "metadata": {}
        },
        {
          "output_type": "error",
          "ename": "ValueError",
          "evalue": "ignored",
          "traceback": [
            "\u001b[0;31m---------------------------------------------------------------------------\u001b[0m",
            "\u001b[0;31mValueError\u001b[0m                                Traceback (most recent call last)",
            "\u001b[0;32m<ipython-input-58-0b3f2178919c>\u001b[0m in \u001b[0;36m<module>\u001b[0;34m()\u001b[0m\n\u001b[1;32m      4\u001b[0m \u001b[0;31m# viz\u001b[0m\u001b[0;34m\u001b[0m\u001b[0;34m\u001b[0m\u001b[0;34m\u001b[0m\u001b[0m\n\u001b[1;32m      5\u001b[0m \u001b[0mgviz\u001b[0m \u001b[0;34m=\u001b[0m \u001b[0mpn_visualizer\u001b[0m\u001b[0;34m.\u001b[0m\u001b[0mapply\u001b[0m\u001b[0;34m(\u001b[0m\u001b[0mnet\u001b[0m\u001b[0;34m,\u001b[0m \u001b[0minitial_marking\u001b[0m\u001b[0;34m,\u001b[0m \u001b[0mfinal_marking\u001b[0m\u001b[0;34m)\u001b[0m\u001b[0;34m\u001b[0m\u001b[0;34m\u001b[0m\u001b[0m\n\u001b[0;32m----> 6\u001b[0;31m \u001b[0mImage\u001b[0m\u001b[0;34m(\u001b[0m\u001b[0mpn_visualizer\u001b[0m\u001b[0;34m.\u001b[0m\u001b[0mview\u001b[0m\u001b[0;34m(\u001b[0m\u001b[0mgviz\u001b[0m\u001b[0;34m)\u001b[0m\u001b[0;34m)\u001b[0m\u001b[0;34m\u001b[0m\u001b[0;34m\u001b[0m\u001b[0m\n\u001b[0m",
            "\u001b[0;32m/usr/local/lib/python3.7/dist-packages/IPython/core/display.py\u001b[0m in \u001b[0;36m__init__\u001b[0;34m(self, data, url, filename, format, embed, width, height, retina, unconfined, metadata)\u001b[0m\n\u001b[1;32m    979\u001b[0m             \u001b[0mext\u001b[0m \u001b[0;34m=\u001b[0m \u001b[0mself\u001b[0m\u001b[0;34m.\u001b[0m\u001b[0m_find_ext\u001b[0m\u001b[0;34m(\u001b[0m\u001b[0murl\u001b[0m\u001b[0;34m)\u001b[0m\u001b[0;34m\u001b[0m\u001b[0;34m\u001b[0m\u001b[0m\n\u001b[1;32m    980\u001b[0m         \u001b[0;32melif\u001b[0m \u001b[0mdata\u001b[0m \u001b[0;32mis\u001b[0m \u001b[0;32mNone\u001b[0m\u001b[0;34m:\u001b[0m\u001b[0;34m\u001b[0m\u001b[0;34m\u001b[0m\u001b[0m\n\u001b[0;32m--> 981\u001b[0;31m             \u001b[0;32mraise\u001b[0m \u001b[0mValueError\u001b[0m\u001b[0;34m(\u001b[0m\u001b[0;34m\"No image data found. Expecting filename, url, or data.\"\u001b[0m\u001b[0;34m)\u001b[0m\u001b[0;34m\u001b[0m\u001b[0;34m\u001b[0m\u001b[0m\n\u001b[0m\u001b[1;32m    982\u001b[0m         elif isinstance(data, string_types) and (\n\u001b[1;32m    983\u001b[0m             \u001b[0mdata\u001b[0m\u001b[0;34m.\u001b[0m\u001b[0mstartswith\u001b[0m\u001b[0;34m(\u001b[0m\u001b[0;34m'http'\u001b[0m\u001b[0;34m)\u001b[0m \u001b[0;32mor\u001b[0m \u001b[0m_safe_exists\u001b[0m\u001b[0;34m(\u001b[0m\u001b[0mdata\u001b[0m\u001b[0;34m)\u001b[0m\u001b[0;34m\u001b[0m\u001b[0;34m\u001b[0m\u001b[0m\n",
            "\u001b[0;31mValueError\u001b[0m: No image data found. Expecting filename, url, or data."
          ]
        }
      ]
    },
    {
      "cell_type": "code",
      "metadata": {
        "colab": {
          "base_uri": "https://localhost:8080/",
          "height": 574
        },
        "id": "mOLTMzhYvkGB",
        "outputId": "a7569310-0e1d-450f-d09d-50d6ec61753e"
      },
      "source": [
        "# create the Inductive_miner\n",
        "tree = inductive_miner.apply(log)\n",
        "\n",
        "# viz\n",
        "gviz = pn_visualizer.apply(net, initial_marking, final_marking)\n",
        "Image(pn_visualizer.view(gviz))"
      ],
      "execution_count": null,
      "outputs": [
        {
          "output_type": "display_data",
          "data": {
            "image/png": "[encoded data removed]",
            "text/plain": [
              "<IPython.core.display.Image object>"
            ]
          },
          "metadata": {}
        },
        {
          "output_type": "error",
          "ename": "ValueError",
          "evalue": "ignored",
          "traceback": [
            "\u001b[0;31m---------------------------------------------------------------------------\u001b[0m",
            "\u001b[0;31mValueError\u001b[0m                                Traceback (most recent call last)",
            "\u001b[0;32m<ipython-input-54-ad68fede1fc4>\u001b[0m in \u001b[0;36m<module>\u001b[0;34m()\u001b[0m\n\u001b[1;32m      4\u001b[0m \u001b[0;31m# viz\u001b[0m\u001b[0;34m\u001b[0m\u001b[0;34m\u001b[0m\u001b[0;34m\u001b[0m\u001b[0m\n\u001b[1;32m      5\u001b[0m \u001b[0mgviz\u001b[0m \u001b[0;34m=\u001b[0m \u001b[0mpn_visualizer\u001b[0m\u001b[0;34m.\u001b[0m\u001b[0mapply\u001b[0m\u001b[0;34m(\u001b[0m\u001b[0mnet\u001b[0m\u001b[0;34m,\u001b[0m \u001b[0minitial_marking\u001b[0m\u001b[0;34m,\u001b[0m \u001b[0mfinal_marking\u001b[0m\u001b[0;34m)\u001b[0m\u001b[0;34m\u001b[0m\u001b[0;34m\u001b[0m\u001b[0m\n\u001b[0;32m----> 6\u001b[0;31m \u001b[0mImage\u001b[0m\u001b[0;34m(\u001b[0m\u001b[0mpn_visualizer\u001b[0m\u001b[0;34m.\u001b[0m\u001b[0mview\u001b[0m\u001b[0;34m(\u001b[0m\u001b[0mgviz\u001b[0m\u001b[0;34m)\u001b[0m\u001b[0;34m)\u001b[0m\u001b[0;34m\u001b[0m\u001b[0;34m\u001b[0m\u001b[0m\n\u001b[0m",
            "\u001b[0;32m/usr/local/lib/python3.7/dist-packages/IPython/core/display.py\u001b[0m in \u001b[0;36m__init__\u001b[0;34m(self, data, url, filename, format, embed, width, height, retina, unconfined, metadata)\u001b[0m\n\u001b[1;32m    979\u001b[0m             \u001b[0mext\u001b[0m \u001b[0;34m=\u001b[0m \u001b[0mself\u001b[0m\u001b[0;34m.\u001b[0m\u001b[0m_find_ext\u001b[0m\u001b[0;34m(\u001b[0m\u001b[0murl\u001b[0m\u001b[0;34m)\u001b[0m\u001b[0;34m\u001b[0m\u001b[0;34m\u001b[0m\u001b[0m\n\u001b[1;32m    980\u001b[0m         \u001b[0;32melif\u001b[0m \u001b[0mdata\u001b[0m \u001b[0;32mis\u001b[0m \u001b[0;32mNone\u001b[0m\u001b[0;34m:\u001b[0m\u001b[0;34m\u001b[0m\u001b[0;34m\u001b[0m\u001b[0m\n\u001b[0;32m--> 981\u001b[0;31m             \u001b[0;32mraise\u001b[0m \u001b[0mValueError\u001b[0m\u001b[0;34m(\u001b[0m\u001b[0;34m\"No image data found. Expecting filename, url, or data.\"\u001b[0m\u001b[0;34m)\u001b[0m\u001b[0;34m\u001b[0m\u001b[0;34m\u001b[0m\u001b[0m\n\u001b[0m\u001b[1;32m    982\u001b[0m         elif isinstance(data, string_types) and (\n\u001b[1;32m    983\u001b[0m             \u001b[0mdata\u001b[0m\u001b[0;34m.\u001b[0m\u001b[0mstartswith\u001b[0m\u001b[0;34m(\u001b[0m\u001b[0;34m'http'\u001b[0m\u001b[0;34m)\u001b[0m \u001b[0;32mor\u001b[0m \u001b[0m_safe_exists\u001b[0m\u001b[0;34m(\u001b[0m\u001b[0mdata\u001b[0m\u001b[0;34m)\u001b[0m\u001b[0;34m\u001b[0m\u001b[0;34m\u001b[0m\u001b[0m\n",
            "\u001b[0;31mValueError\u001b[0m: No image data found. Expecting filename, url, or data."
          ]
        }
      ]
    },
    {
      "cell_type": "code",
      "metadata": {
        "colab": {
          "base_uri": "https://localhost:8080/",
          "height": 848,
          "referenced_widgets": [
            "bcadb1e1634a453ca2f1d449ecd303c5",
            "c5434f80716548f6a42afa10c6a39da4",
            "471b8e54d1aa47b7bd4c90a1afe8d4aa",
            "78ade332d37741ed90e89c63aaef2e05",
            "42e827e682de4bf0925580ad7e7317cb",
            "6414a837ebd1433b9b09ff60c0860459",
            "19cf77636ff8447182cb5acdf6551a3c",
            "db8abf74709e486a84997b3271a5079b",
            "953d558a102a434c9711e37d0440e17e",
            "afadf32bb6c142bfa0c86c497e98af8a",
            "9d5937978e1940c4a0fa731f7b3417cb"
          ]
        },
        "id": "Qk4K7aTjwwTf",
        "outputId": "3cc77478-77b4-486a-ead2-09251a91ee02"
      },
      "source": [
        "from pm4py.algo.conformance.tokenreplay import algorithm as token_replay\n",
        "replayed_traces = token_replay.apply(log, net, initial_marking, final_marking)\n",
        "replayed_traces"
      ],
      "execution_count": null,
      "outputs": [
        {
          "output_type": "display_data",
          "data": {
            "application/vnd.jupyter.widget-view+json": {
              "model_id": "bcadb1e1634a453ca2f1d449ecd303c5",
              "version_minor": 0,
              "version_major": 2
            },
            "text/plain": [
              "replaying log with TBR, completed variants ::   0%|          | 0/3 [00:00<?, ?it/s]"
            ]
          },
          "metadata": {}
        },
        {
          "output_type": "execute_result",
          "data": {
            "text/plain": [
              "[{'activated_transitions': [register request,\n",
              "   examine casually,\n",
              "   check ticket,\n",
              "   decide,\n",
              "   reinitiate request,\n",
              "   examine thoroughly,\n",
              "   check ticket,\n",
              "   decide,\n",
              "   pay compensation],\n",
              "  'consumed_tokens': 11,\n",
              "  'enabled_transitions_in_marking': set(),\n",
              "  'missing_tokens': 0,\n",
              "  'produced_tokens': 11,\n",
              "  'reached_marking': Marking({sink: 1}),\n",
              "  'remaining_tokens': 0,\n",
              "  'trace_fitness': 1.0,\n",
              "  'trace_is_fit': True,\n",
              "  'transitions_with_problems': []},\n",
              " {'activated_transitions': [register request,\n",
              "   check ticket,\n",
              "   examine casually,\n",
              "   decide,\n",
              "   pay compensation],\n",
              "  'consumed_tokens': 7,\n",
              "  'enabled_transitions_in_marking': set(),\n",
              "  'missing_tokens': 0,\n",
              "  'produced_tokens': 7,\n",
              "  'reached_marking': Marking({sink: 1}),\n",
              "  'remaining_tokens': 0,\n",
              "  'trace_fitness': 1.0,\n",
              "  'trace_is_fit': True,\n",
              "  'transitions_with_problems': []},\n",
              " {'activated_transitions': [register request,\n",
              "   examine casually,\n",
              "   check ticket,\n",
              "   decide,\n",
              "   pay compensation],\n",
              "  'consumed_tokens': 7,\n",
              "  'enabled_transitions_in_marking': set(),\n",
              "  'missing_tokens': 0,\n",
              "  'produced_tokens': 7,\n",
              "  'reached_marking': Marking({sink: 1}),\n",
              "  'remaining_tokens': 0,\n",
              "  'trace_fitness': 1.0,\n",
              "  'trace_is_fit': True,\n",
              "  'transitions_with_problems': []}]"
            ]
          },
          "metadata": {},
          "execution_count": 55
        }
      ]
    },
    {
      "cell_type": "code",
      "metadata": {
        "id": "w1hyQSu_xMUQ"
      },
      "source": [
        "trace = pd.DataFrame(replayed_traces, \n",
        "                     columns=['activated_transitions',\n",
        "                              'produced_tokens',\n",
        "                              'consumed_tokens',\n",
        "                              'remaining_tokens',\n",
        "                              'missing_tokens',\n",
        "                              'trace_fitness',\n",
        "                              'trace_is_fit'\n",
        "                              ]\n",
        "                     )"
      ],
      "execution_count": null,
      "outputs": []
    },
    {
      "cell_type": "code",
      "metadata": {
        "colab": {
          "base_uri": "https://localhost:8080/",
          "height": 143
        },
        "id": "cwPixHq8xQvq",
        "outputId": "7d49fa3e-1ee5-41d8-d65c-de80b69ba561"
      },
      "source": [
        "trace"
      ],
      "execution_count": null,
      "outputs": [
        {
          "output_type": "execute_result",
          "data": {
            "text/html": [
              "<div>\n",
              "<style scoped>\n",
              "    .dataframe tbody tr th:only-of-type {\n",
              "        vertical-align: middle;\n",
              "    }\n",
              "\n",
              "    .dataframe tbody tr th {\n",
              "        vertical-align: top;\n",
              "    }\n",
              "\n",
              "    .dataframe thead th {\n",
              "        text-align: right;\n",
              "    }\n",
              "</style>\n",
              "<table border=\"1\" class=\"dataframe\">\n",
              "  <thead>\n",
              "    <tr style=\"text-align: right;\">\n",
              "      <th></th>\n",
              "      <th>activated_transitions</th>\n",
              "      <th>produced_tokens</th>\n",
              "      <th>consumed_tokens</th>\n",
              "      <th>remaining_tokens</th>\n",
              "      <th>missing_tokens</th>\n",
              "      <th>trace_fitness</th>\n",
              "      <th>trace_is_fit</th>\n",
              "    </tr>\n",
              "  </thead>\n",
              "  <tbody>\n",
              "    <tr>\n",
              "      <th>0</th>\n",
              "      <td>[register request, examine casually, check tic...</td>\n",
              "      <td>11</td>\n",
              "      <td>12</td>\n",
              "      <td>0</td>\n",
              "      <td>1</td>\n",
              "      <td>0.958333</td>\n",
              "      <td>False</td>\n",
              "    </tr>\n",
              "    <tr>\n",
              "      <th>1</th>\n",
              "      <td>[register request, check ticket, examine casua...</td>\n",
              "      <td>7</td>\n",
              "      <td>7</td>\n",
              "      <td>0</td>\n",
              "      <td>0</td>\n",
              "      <td>1.000000</td>\n",
              "      <td>True</td>\n",
              "    </tr>\n",
              "    <tr>\n",
              "      <th>2</th>\n",
              "      <td>[register request, examine casually, check tic...</td>\n",
              "      <td>7</td>\n",
              "      <td>7</td>\n",
              "      <td>0</td>\n",
              "      <td>0</td>\n",
              "      <td>1.000000</td>\n",
              "      <td>True</td>\n",
              "    </tr>\n",
              "  </tbody>\n",
              "</table>\n",
              "</div>"
            ],
            "text/plain": [
              "                               activated_transitions  ...  trace_is_fit\n",
              "0  [register request, examine casually, check tic...  ...         False\n",
              "1  [register request, check ticket, examine casua...  ...          True\n",
              "2  [register request, examine casually, check tic...  ...          True\n",
              "\n",
              "[3 rows x 7 columns]"
            ]
          },
          "metadata": {},
          "execution_count": 56
        }
      ]
    },
    {
      "cell_type": "code",
      "metadata": {
        "colab": {
          "base_uri": "https://localhost:8080/",
          "height": 118,
          "referenced_widgets": [
            "c1d722acd16d4c6da4188d1b3b924541",
            "5d0d45c97c49413b9c47cc72c28ffa09",
            "a8720785c0b7409a8d5394533b228505",
            "482dcc03d4a54406925ba2c09b87d2d2",
            "b109ee44e2bf4d84beb3f7511e934ead",
            "a3a19c71b82a4b239789f4cd14cb5fcb",
            "9d850e9d19374e0f83149595a6a30875",
            "5566b9c0e57347c0a9625f81f32ee497",
            "0605c53d5e6245fbad505806f90603bd",
            "9d82b980c8454535a5a3992e6848b586",
            "eb0126af99ed4cffa56cc50f2d2ab9c8"
          ]
        },
        "id": "Xf09ra-ryO8g",
        "outputId": "783d50fb-e897-4371-d849-0001c706dae9"
      },
      "source": [
        "from pm4py.algo.evaluation.replay_fitness import algorithm as replay_fitness_evaluator\n",
        "fitness = replay_fitness_evaluator.apply(log, net, initial_marking, final_marking, variant=replay_fitness_evaluator.Variants.TOKEN_BASED)\n",
        "fitness"
      ],
      "execution_count": null,
      "outputs": [
        {
          "output_type": "display_data",
          "data": {
            "application/vnd.jupyter.widget-view+json": {
              "model_id": "c1d722acd16d4c6da4188d1b3b924541",
              "version_minor": 0,
              "version_major": 2
            },
            "text/plain": [
              "replaying log with TBR, completed variants ::   0%|          | 0/3 [00:00<?, ?it/s]"
            ]
          },
          "metadata": {}
        },
        {
          "output_type": "execute_result",
          "data": {
            "text/plain": [
              "{'average_trace_fitness': 0.986111111111111,\n",
              " 'log_fitness': 0.9807692307692308,\n",
              " 'perc_fit_traces': 66.66666666666667,\n",
              " 'percentage_of_fitting_traces': 66.66666666666667}"
            ]
          },
          "metadata": {},
          "execution_count": 35
        }
      ]
    },
    {
      "cell_type": "code",
      "metadata": {
        "colab": {
          "base_uri": "https://localhost:8080/",
          "height": 537
        },
        "id": "32DFyFdvzljy",
        "outputId": "b2588bca-f192-4f5c-8235-da7ce75e54d9"
      },
      "source": [
        "# Create Heuristic Mining \n",
        "net, im, fm = heuristics_miner.apply(log)\n",
        "\n",
        "# viz\n",
        "gviz = pn_visualizer.apply(net, im, fm)\n",
        "Image(pn_visualizer.view(gviz))"
      ],
      "execution_count": null,
      "outputs": [
        {
          "output_type": "display_data",
          "data": {
            "image/png": "[encoded data removed]",
            "text/plain": [
              "<IPython.core.display.Image object>"
            ]
          },
          "metadata": {}
        },
        {
          "output_type": "error",
          "ename": "ValueError",
          "evalue": "ignored",
          "traceback": [
            "\u001b[0;31m---------------------------------------------------------------------------\u001b[0m",
            "\u001b[0;31mValueError\u001b[0m                                Traceback (most recent call last)",
            "\u001b[0;32m<ipython-input-57-e4e3a72d0179>\u001b[0m in \u001b[0;36m<module>\u001b[0;34m()\u001b[0m\n\u001b[1;32m      4\u001b[0m \u001b[0;31m# viz\u001b[0m\u001b[0;34m\u001b[0m\u001b[0;34m\u001b[0m\u001b[0;34m\u001b[0m\u001b[0m\n\u001b[1;32m      5\u001b[0m \u001b[0mgviz\u001b[0m \u001b[0;34m=\u001b[0m \u001b[0mpn_visualizer\u001b[0m\u001b[0;34m.\u001b[0m\u001b[0mapply\u001b[0m\u001b[0;34m(\u001b[0m\u001b[0mnet\u001b[0m\u001b[0;34m,\u001b[0m \u001b[0mim\u001b[0m\u001b[0;34m,\u001b[0m \u001b[0mfm\u001b[0m\u001b[0;34m)\u001b[0m\u001b[0;34m\u001b[0m\u001b[0;34m\u001b[0m\u001b[0m\n\u001b[0;32m----> 6\u001b[0;31m \u001b[0mImage\u001b[0m\u001b[0;34m(\u001b[0m\u001b[0mpn_visualizer\u001b[0m\u001b[0;34m.\u001b[0m\u001b[0mview\u001b[0m\u001b[0;34m(\u001b[0m\u001b[0mgviz\u001b[0m\u001b[0;34m)\u001b[0m\u001b[0;34m)\u001b[0m\u001b[0;34m\u001b[0m\u001b[0;34m\u001b[0m\u001b[0m\n\u001b[0m",
            "\u001b[0;32m/usr/local/lib/python3.7/dist-packages/IPython/core/display.py\u001b[0m in \u001b[0;36m__init__\u001b[0;34m(self, data, url, filename, format, embed, width, height, retina, unconfined, metadata)\u001b[0m\n\u001b[1;32m    979\u001b[0m             \u001b[0mext\u001b[0m \u001b[0;34m=\u001b[0m \u001b[0mself\u001b[0m\u001b[0;34m.\u001b[0m\u001b[0m_find_ext\u001b[0m\u001b[0;34m(\u001b[0m\u001b[0murl\u001b[0m\u001b[0;34m)\u001b[0m\u001b[0;34m\u001b[0m\u001b[0;34m\u001b[0m\u001b[0m\n\u001b[1;32m    980\u001b[0m         \u001b[0;32melif\u001b[0m \u001b[0mdata\u001b[0m \u001b[0;32mis\u001b[0m \u001b[0;32mNone\u001b[0m\u001b[0;34m:\u001b[0m\u001b[0;34m\u001b[0m\u001b[0;34m\u001b[0m\u001b[0m\n\u001b[0;32m--> 981\u001b[0;31m             \u001b[0;32mraise\u001b[0m \u001b[0mValueError\u001b[0m\u001b[0;34m(\u001b[0m\u001b[0;34m\"No image data found. Expecting filename, url, or data.\"\u001b[0m\u001b[0;34m)\u001b[0m\u001b[0;34m\u001b[0m\u001b[0;34m\u001b[0m\u001b[0m\n\u001b[0m\u001b[1;32m    982\u001b[0m         elif isinstance(data, string_types) and (\n\u001b[1;32m    983\u001b[0m             \u001b[0mdata\u001b[0m\u001b[0;34m.\u001b[0m\u001b[0mstartswith\u001b[0m\u001b[0;34m(\u001b[0m\u001b[0;34m'http'\u001b[0m\u001b[0;34m)\u001b[0m \u001b[0;32mor\u001b[0m \u001b[0m_safe_exists\u001b[0m\u001b[0;34m(\u001b[0m\u001b[0mdata\u001b[0m\u001b[0;34m)\u001b[0m\u001b[0;34m\u001b[0m\u001b[0;34m\u001b[0m\u001b[0m\n",
            "\u001b[0;31mValueError\u001b[0m: No image data found. Expecting filename, url, or data."
          ]
        }
      ]
    },
    {
      "cell_type": "code",
      "metadata": {
        "colab": {
          "base_uri": "https://localhost:8080/",
          "height": 880,
          "referenced_widgets": [
            "8274880efc9e4c0caf9d3263496eb284",
            "c05b5256ba7b4f9a9b82ae2ba2213fb2",
            "e9b567b19a3d4e0daddf7ebb0416e30d",
            "d530e897f44c4fd09883ce35830ec594",
            "aae08c7655fa4388b2d9da298c21d381",
            "ba6d0eea3461431ca73e8a49cad2c148",
            "ad228aa3186f45fe8e7d6a54752a6fa8",
            "37a175c8f36a4f1280abab518a5c6e83",
            "51012c182c4043d5a8a006aca91825e1",
            "ed475d9d2def4d39913ee17a9fa05135",
            "8245ecd3ba5647a1b31c50901c74e5c9"
          ]
        },
        "id": "Fv1wP-i-0Q-9",
        "outputId": "98480d1b-1a0a-4e27-8597-ac7beb9eac2b"
      },
      "source": [
        "parameters = {pn_visualizer.Variants.FREQUENCY.value.Parameters.FORMAT: \"png\"}\n",
        "gviz = pn_visualizer.apply(net, initial_marking, final_marking, \n",
        "                           parameters=parameters, \n",
        "                           variant=pn_visualizer.Variants.FREQUENCY, \n",
        "                           log=log)\n",
        "\n",
        "img = pn_visualizer.view(gviz)\n",
        "Image(img)"
      ],
      "execution_count": null,
      "outputs": [
        {
          "output_type": "display_data",
          "data": {
            "application/vnd.jupyter.widget-view+json": {
              "model_id": "8274880efc9e4c0caf9d3263496eb284",
              "version_minor": 0,
              "version_major": 2
            },
            "text/plain": [
              "replaying log with TBR, completed variants ::   0%|          | 0/3 [00:00<?, ?it/s]"
            ]
          },
          "metadata": {}
        },
        {
          "output_type": "display_data",
          "data": {
            "image/png": "[encoded data removed]",
            "text/plain": [
              "<IPython.core.display.Image object>"
            ]
          },
          "metadata": {}
        },
        {
          "output_type": "error",
          "ename": "ValueError",
          "evalue": "ignored",
          "traceback": [
            "\u001b[0;31m---------------------------------------------------------------------------\u001b[0m",
            "\u001b[0;31mValueError\u001b[0m                                Traceback (most recent call last)",
            "\u001b[0;32m<ipython-input-37-0eee749613c1>\u001b[0m in \u001b[0;36m<module>\u001b[0;34m()\u001b[0m\n\u001b[1;32m      6\u001b[0m \u001b[0;34m\u001b[0m\u001b[0m\n\u001b[1;32m      7\u001b[0m \u001b[0mimg\u001b[0m \u001b[0;34m=\u001b[0m \u001b[0mpn_visualizer\u001b[0m\u001b[0;34m.\u001b[0m\u001b[0mview\u001b[0m\u001b[0;34m(\u001b[0m\u001b[0mgviz\u001b[0m\u001b[0;34m)\u001b[0m\u001b[0;34m\u001b[0m\u001b[0;34m\u001b[0m\u001b[0m\n\u001b[0;32m----> 8\u001b[0;31m \u001b[0mImage\u001b[0m\u001b[0;34m(\u001b[0m\u001b[0mimg\u001b[0m\u001b[0;34m)\u001b[0m\u001b[0;34m\u001b[0m\u001b[0;34m\u001b[0m\u001b[0m\n\u001b[0m",
            "\u001b[0;32m/usr/local/lib/python3.7/dist-packages/IPython/core/display.py\u001b[0m in \u001b[0;36m__init__\u001b[0;34m(self, data, url, filename, format, embed, width, height, retina, unconfined, metadata)\u001b[0m\n\u001b[1;32m    979\u001b[0m             \u001b[0mext\u001b[0m \u001b[0;34m=\u001b[0m \u001b[0mself\u001b[0m\u001b[0;34m.\u001b[0m\u001b[0m_find_ext\u001b[0m\u001b[0;34m(\u001b[0m\u001b[0murl\u001b[0m\u001b[0;34m)\u001b[0m\u001b[0;34m\u001b[0m\u001b[0;34m\u001b[0m\u001b[0m\n\u001b[1;32m    980\u001b[0m         \u001b[0;32melif\u001b[0m \u001b[0mdata\u001b[0m \u001b[0;32mis\u001b[0m \u001b[0;32mNone\u001b[0m\u001b[0;34m:\u001b[0m\u001b[0;34m\u001b[0m\u001b[0;34m\u001b[0m\u001b[0m\n\u001b[0;32m--> 981\u001b[0;31m             \u001b[0;32mraise\u001b[0m \u001b[0mValueError\u001b[0m\u001b[0;34m(\u001b[0m\u001b[0;34m\"No image data found. Expecting filename, url, or data.\"\u001b[0m\u001b[0;34m)\u001b[0m\u001b[0;34m\u001b[0m\u001b[0;34m\u001b[0m\u001b[0m\n\u001b[0m\u001b[1;32m    982\u001b[0m         elif isinstance(data, string_types) and (\n\u001b[1;32m    983\u001b[0m             \u001b[0mdata\u001b[0m\u001b[0;34m.\u001b[0m\u001b[0mstartswith\u001b[0m\u001b[0;34m(\u001b[0m\u001b[0;34m'http'\u001b[0m\u001b[0;34m)\u001b[0m \u001b[0;32mor\u001b[0m \u001b[0m_safe_exists\u001b[0m\u001b[0;34m(\u001b[0m\u001b[0mdata\u001b[0m\u001b[0;34m)\u001b[0m\u001b[0;34m\u001b[0m\u001b[0;34m\u001b[0m\u001b[0m\n",
            "\u001b[0;31mValueError\u001b[0m: No image data found. Expecting filename, url, or data."
          ]
        }
      ]
    }
  ]
}